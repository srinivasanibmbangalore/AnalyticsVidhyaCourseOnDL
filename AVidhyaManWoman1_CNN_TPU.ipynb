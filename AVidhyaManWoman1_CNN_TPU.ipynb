{
  "nbformat": 4,
  "nbformat_minor": 0,
  "metadata": {
    "colab": {
      "name": "AVidhyaManWoman1_CNN_TPU.ipynb",
      "provenance": [],
      "authorship_tag": "ABX9TyMCIDbC/RSV3uAn53T/xZr1",
      "include_colab_link": true
    },
    "kernelspec": {
      "name": "python3",
      "display_name": "Python 3"
    },
    "accelerator": "TPU"
  },
  "cells": [
    {
      "cell_type": "markdown",
      "metadata": {
        "id": "view-in-github",
        "colab_type": "text"
      },
      "source": [
        "<a href=\"https://colab.research.google.com/github/srinivasanibmbangalore/AnalyticsVidhyaCourseOnDL/blob/master/AVidhyaManWoman1_CNN_TPU.ipynb\" target=\"_parent\"><img src=\"https://colab.research.google.com/assets/colab-badge.svg\" alt=\"Open In Colab\"/></a>"
      ]
    },
    {
      "cell_type": "code",
      "metadata": {
        "id": "QyuQ53DR2baU",
        "colab_type": "code",
        "colab": {}
      },
      "source": [
        "import argparse\n",
        "import os\n",
        "import shutil\n",
        "import pandas as pd\n",
        "import numpy as np\n",
        "import cv2\n",
        "import matplotlib.pyplot as plt\n",
        "from tqdm import tqdm\n",
        "from psutil import virtual_memory\n",
        "import tensorflow as tf\n",
        "\n",
        "from keras import backend as K \n",
        "from sklearn.model_selection import train_test_split\n",
        "from keras.models import Sequential\n",
        "from keras.layers import Dense, Activation,InputLayer, Conv2D, MaxPool2D, Flatten\n",
        "from keras.optimizers import SGD\n",
        "from keras.optimizers import Adam\n",
        "from keras.layers import GlobalMaxPool2D\n",
        "import math\n",
        " "
      ],
      "execution_count": 45,
      "outputs": []
    },
    {
      "cell_type": "code",
      "metadata": {
        "id": "x6Fc8EX_7AfP",
        "colab_type": "code",
        "colab": {
          "base_uri": "https://localhost:8080/",
          "height": 34
        },
        "outputId": "c04c35d9-88f2-43cb-f9d3-a0a20aeceb1a"
      },
      "source": [
        "from google.colab import drive\n",
        "\n",
        "drive.mount('/content/gdrive')\n",
        "root_path = '/content/gdrive/My Drive/ml_data/avidhya/manvswoman'"
      ],
      "execution_count": 4,
      "outputs": [
        {
          "output_type": "stream",
          "text": [
            "Drive already mounted at /content/gdrive; to attempt to forcibly remount, call drive.mount(\"/content/gdrive\", force_remount=True).\n"
          ],
          "name": "stdout"
        }
      ]
    },
    {
      "cell_type": "code",
      "metadata": {
        "colab_type": "code",
        "id": "AFZEq6epY-Sy",
        "colab": {
          "base_uri": "https://localhost:8080/",
          "height": 34
        },
        "outputId": "e31bf2e0-5029-4232-d408-87420994dc6b"
      },
      "source": [
        "print(tf.__version__)\n",
        "import distutils\n",
        "if distutils.version.LooseVersion(tf.__version__) < '1.14':\n",
        "    raise Exception('This notebook is compatible with TensorFlow 1.14 or higher, for TensorFlow 1.13 or lower please use the previous version at https://github.com/tensorflow/tpu/blob/r1.13/tools/colab/classification_iris_data_with_keras.ipynb')"
      ],
      "execution_count": 5,
      "outputs": [
        {
          "output_type": "stream",
          "text": [
            "2.2.0\n"
          ],
          "name": "stdout"
        }
      ]
    },
    {
      "cell_type": "code",
      "metadata": {
        "id": "-Z57iVr-yC_l",
        "colab_type": "code",
        "colab": {}
      },
      "source": [
        "use_tpu = True #@param {type:\"boolean\"}\n",
        "\n",
        "if use_tpu:\n",
        "    assert 'COLAB_TPU_ADDR' in os.environ, 'Missing TPU; did you request a TPU in Notebook Settings?'\n",
        "\n",
        "if 'COLAB_TPU_ADDR' in os.environ:\n",
        "  TF_MASTER = 'grpc://{}'.format(os.environ['COLAB_TPU_ADDR'])\n",
        "else:\n",
        "  TF_MASTER=''"
      ],
      "execution_count": 6,
      "outputs": []
    },
    {
      "cell_type": "code",
      "metadata": {
        "colab_type": "code",
        "id": "0tcdTWw1KLiF",
        "colab": {}
      },
      "source": [
        "# Model specific parameters\n",
        "\n",
        "# TPU address\n",
        "tpu_address = TF_MASTER\n",
        "\n",
        "# Number of epochs\n",
        "epochs = 50\n",
        "\n",
        "# Number of steps_per_epoch\n",
        "steps_per_epoch = 5\n",
        "\n",
        "# NOTE: Total number of training steps = Number of epochs * Number of steps_per_epochs"
      ],
      "execution_count": 7,
      "outputs": []
    },
    {
      "cell_type": "code",
      "metadata": {
        "id": "yNMC_qnpyXFj",
        "colab_type": "code",
        "colab": {
          "base_uri": "https://localhost:8080/",
          "height": 34
        },
        "outputId": "e3304230-b6c1-4a27-9280-d6d1190a417f"
      },
      "source": [
        "print(tpu_address)"
      ],
      "execution_count": 8,
      "outputs": [
        {
          "output_type": "stream",
          "text": [
            "grpc://10.91.244.82:8470\n"
          ],
          "name": "stdout"
        }
      ]
    },
    {
      "cell_type": "code",
      "metadata": {
        "id": "F6wfzbWL7O7X",
        "colab_type": "code",
        "colab": {}
      },
      "source": [
        "pwd='4/2QGDxWflA3zX7ZXBypH0jbuI6FDr8FtC_3kF3RYmRjZDaOFgSwQeIoU'\n",
        "\n",
        "train_path=root_path+'/train'\n",
        "test_path=root_path+'/test'\n",
        "images_path=root_path+'/images'\n",
        "output_path=root_path+'/output'"
      ],
      "execution_count": 9,
      "outputs": []
    },
    {
      "cell_type": "code",
      "metadata": {
        "id": "wP6JnPi67iN3",
        "colab_type": "code",
        "colab": {}
      },
      "source": [
        "def move_files(abs_dirname):\n",
        "    \"\"\"Move files into subdirectories.\"\"\"\n",
        "\n",
        "    files = [os.path.join(abs_dirname, f) for f in os.listdir(abs_dirname)]\n",
        "\n",
        "    i = 0\n",
        "    curr_subdir = None\n",
        "\n",
        "    for f in files:\n",
        "        # create new subdir if necessary\n",
        "        if i % N == 0:\n",
        "            subdir_name = os.path.join(abs_dirname, '{0:03d}'.format(i / N + 1))\n",
        "            os.mkdir(subdir_name)\n",
        "            curr_subdir = subdir_name\n",
        "\n",
        "        # move file to current dir\n",
        "        f_base = os.path.basename(f)\n",
        "        shutil.move(f, os.path.join(subdir_name, f_base))\n",
        "        i += 1"
      ],
      "execution_count": null,
      "outputs": []
    },
    {
      "cell_type": "code",
      "metadata": {
        "id": "poGfhcUZ9hTT",
        "colab_type": "code",
        "colab": {}
      },
      "source": [
        "move_files(train_path+'/images')"
      ],
      "execution_count": null,
      "outputs": []
    },
    {
      "cell_type": "code",
      "metadata": {
        "id": "WN9i0DrnPtzx",
        "colab_type": "code",
        "colab": {
          "base_uri": "https://localhost:8080/",
          "height": 34
        },
        "outputId": "97a32302-0363-4916-8115-24a7759e7f56"
      },
      "source": [
        "!pwd\n"
      ],
      "execution_count": 10,
      "outputs": [
        {
          "output_type": "stream",
          "text": [
            "/content\n"
          ],
          "name": "stdout"
        }
      ]
    },
    {
      "cell_type": "code",
      "metadata": {
        "id": "Py4nYaf0P9Ca",
        "colab_type": "code",
        "colab": {}
      },
      "source": [
        "os.chdir(root_path+'/images')"
      ],
      "execution_count": 11,
      "outputs": []
    },
    {
      "cell_type": "code",
      "metadata": {
        "id": "o2S-xEbgQOV7",
        "colab_type": "code",
        "colab": {}
      },
      "source": [
        "#!unzip image.zip\n"
      ],
      "execution_count": null,
      "outputs": []
    },
    {
      "cell_type": "code",
      "metadata": {
        "id": "pJ1hA5tHaVCR",
        "colab_type": "code",
        "colab": {
          "base_uri": "https://localhost:8080/",
          "height": 646
        },
        "outputId": "2962888d-a077-4d89-daba-edcc56f936e0"
      },
      "source": [
        "!ls"
      ],
      "execution_count": 12,
      "outputs": [
        {
          "output_type": "stream",
          "text": [
            "001  038  075  112  149  186  223  260\t297  334  371  408  445  482  519  556\n",
            "002  039  076  113  150  187  224  261\t298  335  372  409  446  483  520  557\n",
            "003  040  077  114  151  188  225  262\t299  336  373  410  447  484  521  558\n",
            "004  041  078  115  152  189  226  263\t300  337  374  411  448  485  522  559\n",
            "005  042  079  116  153  190  227  264\t301  338  375  412  449  486  523  560\n",
            "006  043  080  117  154  191  228  265\t302  339  376  413  450  487  524  561\n",
            "007  044  081  118  155  192  229  266\t303  340  377  414  451  488  525  562\n",
            "008  045  082  119  156  193  230  267\t304  341  378  415  452  489  526  563\n",
            "009  046  083  120  157  194  231  268\t305  342  379  416  453  490  527  564\n",
            "010  047  084  121  158  195  232  269\t306  343  380  417  454  491  528  565\n",
            "011  048  085  122  159  196  233  270\t307  344  381  418  455  492  529  566\n",
            "012  049  086  123  160  197  234  271\t308  345  382  419  456  493  530  567\n",
            "013  050  087  124  161  198  235  272\t309  346  383  420  457  494  531  568\n",
            "014  051  088  125  162  199  236  273\t310  347  384  421  458  495  532  569\n",
            "015  052  089  126  163  200  237  274\t311  348  385  422  459  496  533  570\n",
            "016  053  090  127  164  201  238  275\t312  349  386  423  460  497  534  571\n",
            "017  054  091  128  165  202  239  276\t313  350  387  424  461  498  535  572\n",
            "018  055  092  129  166  203  240  277\t314  351  388  425  462  499  536  573\n",
            "019  056  093  130  167  204  241  278\t315  352  389  426  463  500  537  574\n",
            "020  057  094  131  168  205  242  279\t316  353  390  427  464  501  538  575\n",
            "021  058  095  132  169  206  243  280\t317  354  391  428  465  502  539  576\n",
            "022  059  096  133  170  207  244  281\t318  355  392  429  466  503  540  577\n",
            "023  060  097  134  171  208  245  282\t319  356  393  430  467  504  541  578\n",
            "024  061  098  135  172  209  246  283\t320  357  394  431  468  505  542  579\n",
            "025  062  099  136  173  210  247  284\t321  358  395  432  469  506  543  580\n",
            "026  063  100  137  174  211  248  285\t322  359  396  433  470  507  544  581\n",
            "027  064  101  138  175  212  249  286\t323  360  397  434  471  508  545\n",
            "028  065  102  139  176  213  250  287\t324  361  398  435  472  509  546\n",
            "029  066  103  140  177  214  251  288\t325  362  399  436  473  510  547\n",
            "030  067  104  141  178  215  252  289\t326  363  400  437  474  511  548\n",
            "031  068  105  142  179  216  253  290\t327  364  401  438  475  512  549\n",
            "032  069  106  143  180  217  254  291\t328  365  402  439  476  513  550\n",
            "033  070  107  144  181  218  255  292\t329  366  403  440  477  514  551\n",
            "034  071  108  145  182  219  256  293\t330  367  404  441  478  515  552\n",
            "035  072  109  146  183  220  257  294\t331  368  405  442  479  516  553\n",
            "036  073  110  147  184  221  258  295\t332  369  406  443  480  517  554\n",
            "037  074  111  148  185  222  259  296\t333  370  407  444  481  518  555\n"
          ],
          "name": "stdout"
        }
      ]
    },
    {
      "cell_type": "code",
      "metadata": {
        "id": "dul26LZYcywg",
        "colab_type": "code",
        "colab": {
          "base_uri": "https://localhost:8080/",
          "height": 173
        },
        "outputId": "447e5bb9-a94b-4640-ffa2-d0425e434d03"
      },
      "source": [
        "import os\n",
        "num_files=0\n",
        "clmn_names=['image_name','imgDirLocation']\n",
        "imgDF = pd.DataFrame(columns=clmn_names)\n",
        "imgDF.describe()\n"
      ],
      "execution_count": 13,
      "outputs": [
        {
          "output_type": "execute_result",
          "data": {
            "text/html": [
              "<div>\n",
              "<style scoped>\n",
              "    .dataframe tbody tr th:only-of-type {\n",
              "        vertical-align: middle;\n",
              "    }\n",
              "\n",
              "    .dataframe tbody tr th {\n",
              "        vertical-align: top;\n",
              "    }\n",
              "\n",
              "    .dataframe thead th {\n",
              "        text-align: right;\n",
              "    }\n",
              "</style>\n",
              "<table border=\"1\" class=\"dataframe\">\n",
              "  <thead>\n",
              "    <tr style=\"text-align: right;\">\n",
              "      <th></th>\n",
              "      <th>image_name</th>\n",
              "      <th>imgDirLocation</th>\n",
              "    </tr>\n",
              "  </thead>\n",
              "  <tbody>\n",
              "    <tr>\n",
              "      <th>count</th>\n",
              "      <td>0</td>\n",
              "      <td>0</td>\n",
              "    </tr>\n",
              "    <tr>\n",
              "      <th>unique</th>\n",
              "      <td>0</td>\n",
              "      <td>0</td>\n",
              "    </tr>\n",
              "    <tr>\n",
              "      <th>top</th>\n",
              "      <td>NaN</td>\n",
              "      <td>NaN</td>\n",
              "    </tr>\n",
              "    <tr>\n",
              "      <th>freq</th>\n",
              "      <td>NaN</td>\n",
              "      <td>NaN</td>\n",
              "    </tr>\n",
              "  </tbody>\n",
              "</table>\n",
              "</div>"
            ],
            "text/plain": [
              "       image_name imgDirLocation\n",
              "count           0              0\n",
              "unique          0              0\n",
              "top           NaN            NaN\n",
              "freq          NaN            NaN"
            ]
          },
          "metadata": {
            "tags": []
          },
          "execution_count": 13
        }
      ]
    },
    {
      "cell_type": "code",
      "metadata": {
        "id": "_ZHjV6m8l5XB",
        "colab_type": "code",
        "colab": {
          "base_uri": "https://localhost:8080/",
          "height": 68
        },
        "outputId": "b52a9413-3288-4dea-e9e4-c36746d8a7d7"
      },
      "source": [
        "%%time\n",
        "i=0\n",
        "for root, dirs, files in tqdm(os.walk(images_path, topdown=False)):\n",
        "   for name in files:\n",
        "      _, ext = os.path.splitext(name)\n",
        "      if (ext == '.jpg'):\n",
        "          imgDF.loc[i]=[name,root]\n",
        "          i+=1\n",
        "    "
      ],
      "execution_count": 14,
      "outputs": [
        {
          "output_type": "stream",
          "text": [
            "582it [00:56, 10.35it/s]"
          ],
          "name": "stderr"
        },
        {
          "output_type": "stream",
          "text": [
            "CPU times: user 55.2 s, sys: 420 ms, total: 55.6 s\n",
            "Wall time: 56.3 s\n"
          ],
          "name": "stdout"
        },
        {
          "output_type": "stream",
          "text": [
            "\n"
          ],
          "name": "stderr"
        }
      ]
    },
    {
      "cell_type": "code",
      "metadata": {
        "id": "-w-F1attoPsz",
        "colab_type": "code",
        "colab": {
          "base_uri": "https://localhost:8080/",
          "height": 34
        },
        "outputId": "7744a248-f924-4c3f-9d21-8e6694e385d1"
      },
      "source": [
        "used_ramgb=virtual_memory().available/1e9\n",
        "print(\"Available Memory is \" + str(used_ramgb) + \" gb\")"
      ],
      "execution_count": 15,
      "outputs": [
        {
          "output_type": "stream",
          "text": [
            "Available Memory is 12.592316416 gb\n"
          ],
          "name": "stdout"
        }
      ]
    },
    {
      "cell_type": "code",
      "metadata": {
        "id": "s8sIg8RMstt-",
        "colab_type": "code",
        "colab": {
          "base_uri": "https://localhost:8080/",
          "height": 173
        },
        "outputId": "565090e6-5992-4fc0-cf8a-754d20287aed"
      },
      "source": [
        "imgDF.describe()"
      ],
      "execution_count": 16,
      "outputs": [
        {
          "output_type": "execute_result",
          "data": {
            "text/html": [
              "<div>\n",
              "<style scoped>\n",
              "    .dataframe tbody tr th:only-of-type {\n",
              "        vertical-align: middle;\n",
              "    }\n",
              "\n",
              "    .dataframe tbody tr th {\n",
              "        vertical-align: top;\n",
              "    }\n",
              "\n",
              "    .dataframe thead th {\n",
              "        text-align: right;\n",
              "    }\n",
              "</style>\n",
              "<table border=\"1\" class=\"dataframe\">\n",
              "  <thead>\n",
              "    <tr style=\"text-align: right;\">\n",
              "      <th></th>\n",
              "      <th>image_name</th>\n",
              "      <th>imgDirLocation</th>\n",
              "    </tr>\n",
              "  </thead>\n",
              "  <tbody>\n",
              "    <tr>\n",
              "      <th>count</th>\n",
              "      <td>17423</td>\n",
              "      <td>17423</td>\n",
              "    </tr>\n",
              "    <tr>\n",
              "      <th>unique</th>\n",
              "      <td>17423</td>\n",
              "      <td>581</td>\n",
              "    </tr>\n",
              "    <tr>\n",
              "      <th>top</th>\n",
              "      <td>23201.jpg</td>\n",
              "      <td>/content/gdrive/My Drive/ml_data/avidhya/manvs...</td>\n",
              "    </tr>\n",
              "    <tr>\n",
              "      <th>freq</th>\n",
              "      <td>1</td>\n",
              "      <td>30</td>\n",
              "    </tr>\n",
              "  </tbody>\n",
              "</table>\n",
              "</div>"
            ],
            "text/plain": [
              "       image_name                                     imgDirLocation\n",
              "count       17423                                              17423\n",
              "unique      17423                                                581\n",
              "top     23201.jpg  /content/gdrive/My Drive/ml_data/avidhya/manvs...\n",
              "freq            1                                                 30"
            ]
          },
          "metadata": {
            "tags": []
          },
          "execution_count": 16
        }
      ]
    },
    {
      "cell_type": "code",
      "metadata": {
        "id": "DxZTtKFcgwnp",
        "colab_type": "code",
        "colab": {
          "base_uri": "https://localhost:8080/",
          "height": 204
        },
        "outputId": "f2803209-0708-4875-c3be-383a8672c58b"
      },
      "source": [
        "imgDF.head()"
      ],
      "execution_count": 17,
      "outputs": [
        {
          "output_type": "execute_result",
          "data": {
            "text/html": [
              "<div>\n",
              "<style scoped>\n",
              "    .dataframe tbody tr th:only-of-type {\n",
              "        vertical-align: middle;\n",
              "    }\n",
              "\n",
              "    .dataframe tbody tr th {\n",
              "        vertical-align: top;\n",
              "    }\n",
              "\n",
              "    .dataframe thead th {\n",
              "        text-align: right;\n",
              "    }\n",
              "</style>\n",
              "<table border=\"1\" class=\"dataframe\">\n",
              "  <thead>\n",
              "    <tr style=\"text-align: right;\">\n",
              "      <th></th>\n",
              "      <th>image_name</th>\n",
              "      <th>imgDirLocation</th>\n",
              "    </tr>\n",
              "  </thead>\n",
              "  <tbody>\n",
              "    <tr>\n",
              "      <th>0</th>\n",
              "      <td>21117.jpg</td>\n",
              "      <td>/content/gdrive/My Drive/ml_data/avidhya/manvs...</td>\n",
              "    </tr>\n",
              "    <tr>\n",
              "      <th>1</th>\n",
              "      <td>14812.jpg</td>\n",
              "      <td>/content/gdrive/My Drive/ml_data/avidhya/manvs...</td>\n",
              "    </tr>\n",
              "    <tr>\n",
              "      <th>2</th>\n",
              "      <td>25198.jpg</td>\n",
              "      <td>/content/gdrive/My Drive/ml_data/avidhya/manvs...</td>\n",
              "    </tr>\n",
              "    <tr>\n",
              "      <th>3</th>\n",
              "      <td>5684.jpg</td>\n",
              "      <td>/content/gdrive/My Drive/ml_data/avidhya/manvs...</td>\n",
              "    </tr>\n",
              "    <tr>\n",
              "      <th>4</th>\n",
              "      <td>2464.jpg</td>\n",
              "      <td>/content/gdrive/My Drive/ml_data/avidhya/manvs...</td>\n",
              "    </tr>\n",
              "  </tbody>\n",
              "</table>\n",
              "</div>"
            ],
            "text/plain": [
              "  image_name                                     imgDirLocation\n",
              "0  21117.jpg  /content/gdrive/My Drive/ml_data/avidhya/manvs...\n",
              "1  14812.jpg  /content/gdrive/My Drive/ml_data/avidhya/manvs...\n",
              "2  25198.jpg  /content/gdrive/My Drive/ml_data/avidhya/manvs...\n",
              "3   5684.jpg  /content/gdrive/My Drive/ml_data/avidhya/manvs...\n",
              "4   2464.jpg  /content/gdrive/My Drive/ml_data/avidhya/manvs..."
            ]
          },
          "metadata": {
            "tags": []
          },
          "execution_count": 17
        }
      ]
    },
    {
      "cell_type": "code",
      "metadata": {
        "id": "g6R401qPs0MU",
        "colab_type": "code",
        "colab": {
          "base_uri": "https://localhost:8080/",
          "height": 297
        },
        "outputId": "eda21e5d-74f0-4ea5-b12b-f8ed1ba21b62"
      },
      "source": [
        "seed = 42\n",
        "rng = np.random.RandomState(seed)\n",
        "tr_data = pd.read_csv(root_path+'/train.csv')\n",
        "\n",
        "tr_data.describe()"
      ],
      "execution_count": 18,
      "outputs": [
        {
          "output_type": "execute_result",
          "data": {
            "text/html": [
              "<div>\n",
              "<style scoped>\n",
              "    .dataframe tbody tr th:only-of-type {\n",
              "        vertical-align: middle;\n",
              "    }\n",
              "\n",
              "    .dataframe tbody tr th {\n",
              "        vertical-align: top;\n",
              "    }\n",
              "\n",
              "    .dataframe thead th {\n",
              "        text-align: right;\n",
              "    }\n",
              "</style>\n",
              "<table border=\"1\" class=\"dataframe\">\n",
              "  <thead>\n",
              "    <tr style=\"text-align: right;\">\n",
              "      <th></th>\n",
              "      <th>class</th>\n",
              "    </tr>\n",
              "  </thead>\n",
              "  <tbody>\n",
              "    <tr>\n",
              "      <th>count</th>\n",
              "      <td>12196.000000</td>\n",
              "    </tr>\n",
              "    <tr>\n",
              "      <th>mean</th>\n",
              "      <td>0.506232</td>\n",
              "    </tr>\n",
              "    <tr>\n",
              "      <th>std</th>\n",
              "      <td>0.499982</td>\n",
              "    </tr>\n",
              "    <tr>\n",
              "      <th>min</th>\n",
              "      <td>0.000000</td>\n",
              "    </tr>\n",
              "    <tr>\n",
              "      <th>25%</th>\n",
              "      <td>0.000000</td>\n",
              "    </tr>\n",
              "    <tr>\n",
              "      <th>50%</th>\n",
              "      <td>1.000000</td>\n",
              "    </tr>\n",
              "    <tr>\n",
              "      <th>75%</th>\n",
              "      <td>1.000000</td>\n",
              "    </tr>\n",
              "    <tr>\n",
              "      <th>max</th>\n",
              "      <td>1.000000</td>\n",
              "    </tr>\n",
              "  </tbody>\n",
              "</table>\n",
              "</div>"
            ],
            "text/plain": [
              "              class\n",
              "count  12196.000000\n",
              "mean       0.506232\n",
              "std        0.499982\n",
              "min        0.000000\n",
              "25%        0.000000\n",
              "50%        1.000000\n",
              "75%        1.000000\n",
              "max        1.000000"
            ]
          },
          "metadata": {
            "tags": []
          },
          "execution_count": 18
        }
      ]
    },
    {
      "cell_type": "code",
      "metadata": {
        "id": "TasFqA4ptjGe",
        "colab_type": "code",
        "colab": {
          "base_uri": "https://localhost:8080/",
          "height": 204
        },
        "outputId": "dfae8871-f855-444c-c022-ee2f0f3d38eb"
      },
      "source": [
        "tr_data.head()"
      ],
      "execution_count": 19,
      "outputs": [
        {
          "output_type": "execute_result",
          "data": {
            "text/html": [
              "<div>\n",
              "<style scoped>\n",
              "    .dataframe tbody tr th:only-of-type {\n",
              "        vertical-align: middle;\n",
              "    }\n",
              "\n",
              "    .dataframe tbody tr th {\n",
              "        vertical-align: top;\n",
              "    }\n",
              "\n",
              "    .dataframe thead th {\n",
              "        text-align: right;\n",
              "    }\n",
              "</style>\n",
              "<table border=\"1\" class=\"dataframe\">\n",
              "  <thead>\n",
              "    <tr style=\"text-align: right;\">\n",
              "      <th></th>\n",
              "      <th>image_names</th>\n",
              "      <th>class</th>\n",
              "    </tr>\n",
              "  </thead>\n",
              "  <tbody>\n",
              "    <tr>\n",
              "      <th>0</th>\n",
              "      <td>11413.jpg</td>\n",
              "      <td>1</td>\n",
              "    </tr>\n",
              "    <tr>\n",
              "      <th>1</th>\n",
              "      <td>9863.jpg</td>\n",
              "      <td>1</td>\n",
              "    </tr>\n",
              "    <tr>\n",
              "      <th>2</th>\n",
              "      <td>997.jpg</td>\n",
              "      <td>0</td>\n",
              "    </tr>\n",
              "    <tr>\n",
              "      <th>3</th>\n",
              "      <td>5950.jpg</td>\n",
              "      <td>0</td>\n",
              "    </tr>\n",
              "    <tr>\n",
              "      <th>4</th>\n",
              "      <td>10454.jpg</td>\n",
              "      <td>1</td>\n",
              "    </tr>\n",
              "  </tbody>\n",
              "</table>\n",
              "</div>"
            ],
            "text/plain": [
              "  image_names  class\n",
              "0   11413.jpg      1\n",
              "1    9863.jpg      1\n",
              "2     997.jpg      0\n",
              "3    5950.jpg      0\n",
              "4   10454.jpg      1"
            ]
          },
          "metadata": {
            "tags": []
          },
          "execution_count": 19
        }
      ]
    },
    {
      "cell_type": "code",
      "metadata": {
        "id": "Mv5yHqJBtxz8",
        "colab_type": "code",
        "colab": {
          "base_uri": "https://localhost:8080/",
          "height": 303
        },
        "outputId": "3d3be017-aebf-4f35-8de3-939dd522112b"
      },
      "source": [
        "trialImgLoc=imgDF.imgDirLocation[4]+'/'+imgDF.image_name[16]\n",
        "print(trialImgLoc)\n",
        "img=cv2.imread(trialImgLoc)\n",
        "plt.imshow(img)\n",
        "img.shape"
      ],
      "execution_count": 20,
      "outputs": [
        {
          "output_type": "stream",
          "text": [
            "/content/gdrive/My Drive/ml_data/avidhya/manvswoman/images/005/9257.jpg\n"
          ],
          "name": "stdout"
        },
        {
          "output_type": "execute_result",
          "data": {
            "text/plain": [
              "(224, 224, 3)"
            ]
          },
          "metadata": {
            "tags": []
          },
          "execution_count": 20
        },
        {
          "output_type": "display_data",
          "data": {
            "image/png": "[encoded data removed]",
            "text/plain": [
              "<Figure size 432x288 with 1 Axes>"
            ]
          },
          "metadata": {
            "tags": [],
            "needs_background": "light"
          }
        }
      ]
    },
    {
      "cell_type": "code",
      "metadata": {
        "id": "p5XOnxtZvF1c",
        "colab_type": "code",
        "colab": {
          "base_uri": "https://localhost:8080/",
          "height": 286
        },
        "outputId": "0edb11c3-9387-4d0d-c585-00c0ca0b1560"
      },
      "source": [
        "im_rgb = cv2.cvtColor(img, cv2.COLOR_BGR2RGB)\n",
        "plt.imshow(im_rgb)"
      ],
      "execution_count": 21,
      "outputs": [
        {
          "output_type": "execute_result",
          "data": {
            "text/plain": [
              "<matplotlib.image.AxesImage at 0x7f547fd0d438>"
            ]
          },
          "metadata": {
            "tags": []
          },
          "execution_count": 21
        },
        {
          "output_type": "display_data",
          "data": {
            "image/png": "[encoded data removed]",
            "text/plain": [
              "<Figure size 432x288 with 1 Axes>"
            ]
          },
          "metadata": {
            "tags": [],
            "needs_background": "light"
          }
        }
      ]
    },
    {
      "cell_type": "code",
      "metadata": {
        "id": "XBcZor4nlOQz",
        "colab_type": "code",
        "colab": {
          "base_uri": "https://localhost:8080/",
          "height": 285
        },
        "outputId": "1c6c41b9-d191-4a6b-97bf-7a94e2f125de"
      },
      "source": [
        "resized_im_rgb=cv2.resize(im_rgb,(112,112))\n",
        "plt.imshow(resized_im_rgb)\n",
        "resized_im_rgb.shape\n",
        "\n",
        "used_ramgb=virtual_memory().available/1e9\n",
        "print(\"Available Memory is \" + str(used_ramgb) + \" gb\")"
      ],
      "execution_count": 22,
      "outputs": [
        {
          "output_type": "stream",
          "text": [
            "Available Memory is 12.591947776 gb\n"
          ],
          "name": "stdout"
        },
        {
          "output_type": "display_data",
          "data": {
            "image/png": "[encoded data removed]",
            "text/plain": [
              "<Figure size 432x288 with 1 Axes>"
            ]
          },
          "metadata": {
            "tags": [],
            "needs_background": "light"
          }
        }
      ]
    },
    {
      "cell_type": "code",
      "metadata": {
        "id": "MtTbftuPoay9",
        "colab_type": "code",
        "colab": {
          "base_uri": "https://localhost:8080/",
          "height": 34
        },
        "outputId": "75d5e50e-406f-463a-fb93-d2a703b995e2"
      },
      "source": [
        "used_ramgb=virtual_memory().available/1e9\n",
        "print(\"Available Memory is \" + str(used_ramgb) + \" gb\")"
      ],
      "execution_count": 23,
      "outputs": [
        {
          "output_type": "stream",
          "text": [
            "Available Memory is 12.59051008 gb\n"
          ],
          "name": "stdout"
        }
      ]
    },
    {
      "cell_type": "code",
      "metadata": {
        "id": "rqyC1GOIwR29",
        "colab_type": "code",
        "colab": {
          "base_uri": "https://localhost:8080/",
          "height": 85
        },
        "outputId": "a188fb8e-c5f2-4009-9496-32495c68b7b6"
      },
      "source": [
        "%%time\n",
        "X = []\n",
        "i=0\n",
        "for img_name in tqdm(tr_data.image_names):\n",
        "    dir=imgDF.loc[imgDF['image_name']== img_name,'imgDirLocation'].iloc[0]\n",
        "    path=dir+'/'+img_name\n",
        "    #print(dir)\n",
        "    #img = plt.imread(path)\n",
        "    img=cv2.imread(path)\n",
        "    img_resized=cv2.resize(img,(112,112))\n",
        "    X.append(img_resized)\n",
        "    #print(str(i)+\". \"+path)\n",
        "    i+=1\n",
        "X_a=np.array(X)\n",
        "X_a.shape\n",
        "used_ramgb=virtual_memory().available/1e9\n",
        "print(\"Available Memory is \" + str(used_ramgb) + \" gb\")"
      ],
      "execution_count": 24,
      "outputs": [
        {
          "output_type": "stream",
          "text": [
            "100%|██████████| 12196/12196 [01:27<00:00, 139.07it/s]\n"
          ],
          "name": "stderr"
        },
        {
          "output_type": "stream",
          "text": [
            "Available Memory is 11.607425024 gb\n",
            "CPU times: user 41 s, sys: 6.89 s, total: 47.9 s\n",
            "Wall time: 1min 27s\n"
          ],
          "name": "stdout"
        }
      ]
    },
    {
      "cell_type": "code",
      "metadata": {
        "id": "MUdEZZAfBgu4",
        "colab_type": "code",
        "colab": {
          "base_uri": "https://localhost:8080/",
          "height": 34
        },
        "outputId": "dccdd748-1b1b-48d6-84b6-9b49499b739b"
      },
      "source": [
        "Y_a=tr_data['class'].to_numpy()\n",
        "Y_a.shape\n"
      ],
      "execution_count": 25,
      "outputs": [
        {
          "output_type": "execute_result",
          "data": {
            "text/plain": [
              "(12196,)"
            ]
          },
          "metadata": {
            "tags": []
          },
          "execution_count": 25
        }
      ]
    },
    {
      "cell_type": "code",
      "metadata": {
        "id": "Gs_j11W3Bsdx",
        "colab_type": "code",
        "colab": {
          "base_uri": "https://localhost:8080/",
          "height": 34
        },
        "outputId": "da37acb2-3765-4ac7-9bf8-4f2d40720dc4"
      },
      "source": [
        "img_width, img_height = 112, 112\n",
        "if K.image_data_format() == 'channels_first': \n",
        "    input_shape = (3, img_width, img_height) \n",
        "else: \n",
        "    input_shape = (img_width, img_height, 3)\n",
        "print(input_shape)"
      ],
      "execution_count": 26,
      "outputs": [
        {
          "output_type": "stream",
          "text": [
            "(112, 112, 3)\n"
          ],
          "name": "stdout"
        }
      ]
    },
    {
      "cell_type": "code",
      "metadata": {
        "id": "qSereoUyB5rj",
        "colab_type": "code",
        "colab": {}
      },
      "source": [
        "X_train, X_valid, y_train, y_valid=train_test_split(X_a,Y_a,test_size=0.3, random_state=seed)\n"
      ],
      "execution_count": 27,
      "outputs": []
    },
    {
      "cell_type": "code",
      "metadata": {
        "id": "CVjWD1TppbBg",
        "colab_type": "code",
        "colab": {
          "base_uri": "https://localhost:8080/",
          "height": 34
        },
        "outputId": "7d7ef979-3107-4066-b28a-3f09a09cbdba"
      },
      "source": [
        "used_ramgb=virtual_memory().available/1e9\n",
        "print(\"Available Memory is \" + str(used_ramgb) + \" gb\")"
      ],
      "execution_count": 28,
      "outputs": [
        {
          "output_type": "stream",
          "text": [
            "Available Memory is 11.143733248 gb\n"
          ],
          "name": "stdout"
        }
      ]
    },
    {
      "cell_type": "code",
      "metadata": {
        "id": "xUVPD6dooW1M",
        "colab_type": "code",
        "colab": {}
      },
      "source": [
        "del X_a\n"
      ],
      "execution_count": 29,
      "outputs": []
    },
    {
      "cell_type": "code",
      "metadata": {
        "id": "_5nEkbaGqazz",
        "colab_type": "code",
        "colab": {
          "base_uri": "https://localhost:8080/",
          "height": 34
        },
        "outputId": "455f42e2-f52c-46fa-fd57-665a55603125"
      },
      "source": [
        "used_ramgb=virtual_memory().available/1e9\n",
        "print(\"Available Memory is \" + str(used_ramgb) + \" gb\")"
      ],
      "execution_count": 30,
      "outputs": [
        {
          "output_type": "stream",
          "text": [
            "Available Memory is 11.600461824 gb\n"
          ],
          "name": "stdout"
        }
      ]
    },
    {
      "cell_type": "code",
      "metadata": {
        "id": "6m2Ng2BPC2Le",
        "colab_type": "code",
        "colab": {
          "base_uri": "https://localhost:8080/",
          "height": 34
        },
        "outputId": "2fc98c2b-f738-444d-82be-d65e1101dea3"
      },
      "source": [
        "X_train.shape\n",
        "X_valid.shape\n",
        "y_train.shape\n",
        "y_valid.shape"
      ],
      "execution_count": 31,
      "outputs": [
        {
          "output_type": "execute_result",
          "data": {
            "text/plain": [
              "(3659,)"
            ]
          },
          "metadata": {
            "tags": []
          },
          "execution_count": 31
        }
      ]
    },
    {
      "cell_type": "code",
      "metadata": {
        "id": "KsPdQCTWCSoW",
        "colab_type": "code",
        "colab": {
          "base_uri": "https://localhost:8080/",
          "height": 34
        },
        "outputId": "6c6c123d-d6d3-4352-afc3-65be5b821cab"
      },
      "source": [
        "y_valid.shape"
      ],
      "execution_count": 32,
      "outputs": [
        {
          "output_type": "execute_result",
          "data": {
            "text/plain": [
              "(3659,)"
            ]
          },
          "metadata": {
            "tags": []
          },
          "execution_count": 32
        }
      ]
    },
    {
      "cell_type": "code",
      "metadata": {
        "id": "SIUHhW4CCXs2",
        "colab_type": "code",
        "colab": {
          "base_uri": "https://localhost:8080/",
          "height": 34
        },
        "outputId": "6929f182-4397-4757-bb4e-7ab140541bfc"
      },
      "source": [
        "y_valid=np.expand_dims(y_valid,axis=1)\n",
        "y_valid.shape"
      ],
      "execution_count": 33,
      "outputs": [
        {
          "output_type": "execute_result",
          "data": {
            "text/plain": [
              "(3659, 1)"
            ]
          },
          "metadata": {
            "tags": []
          },
          "execution_count": 33
        }
      ]
    },
    {
      "cell_type": "code",
      "metadata": {
        "id": "Eb1ANxHAIxeS",
        "colab_type": "code",
        "colab": {
          "base_uri": "https://localhost:8080/",
          "height": 34
        },
        "outputId": "2304a8f9-ad4c-4554-9c5a-19f93af57b2a"
      },
      "source": [
        "X_train.shape[0]"
      ],
      "execution_count": 42,
      "outputs": [
        {
          "output_type": "execute_result",
          "data": {
            "text/plain": [
              "8537"
            ]
          },
          "metadata": {
            "tags": []
          },
          "execution_count": 42
        }
      ]
    },
    {
      "cell_type": "code",
      "metadata": {
        "id": "8Zsdc3-oI5t0",
        "colab_type": "code",
        "colab": {
          "base_uri": "https://localhost:8080/",
          "height": 34
        },
        "outputId": "c91efaf2-0c82-44ad-9123-6f7a7203d32c"
      },
      "source": [
        "y_valid.shape[0]"
      ],
      "execution_count": 43,
      "outputs": [
        {
          "output_type": "execute_result",
          "data": {
            "text/plain": [
              "3659"
            ]
          },
          "metadata": {
            "tags": []
          },
          "execution_count": 43
        }
      ]
    },
    {
      "cell_type": "code",
      "metadata": {
        "id": "iC3oyKPaCbQu",
        "colab_type": "code",
        "colab": {
          "base_uri": "https://localhost:8080/",
          "height": 34
        },
        "outputId": "bb8adcfb-ef0f-40ad-fd7b-92db135870b3"
      },
      "source": [
        "y_train=np.expand_dims(y_train,axis=1)\n",
        "y_train.shape"
      ],
      "execution_count": 34,
      "outputs": [
        {
          "output_type": "execute_result",
          "data": {
            "text/plain": [
              "(8537, 1)"
            ]
          },
          "metadata": {
            "tags": []
          },
          "execution_count": 34
        }
      ]
    },
    {
      "cell_type": "code",
      "metadata": {
        "id": "S3hLxGvTCmwt",
        "colab_type": "code",
        "colab": {
          "base_uri": "https://localhost:8080/",
          "height": 51
        },
        "outputId": "b960e97b-1be8-4faa-aea4-fcab6dda50bf"
      },
      "source": [
        "used_ramgb=virtual_memory().available/1e9\n",
        "print(\"Available Memory is \" + str(used_ramgb) + \" gb\")\n",
        "\n",
        "#X_train = np.reshape(X_train,(-1,112*112*3))\n",
        "#X_valid = np.reshape(X_valid,(-1,112*112*3))\n",
        "\n",
        "#used_ramgb=virtual_memory().available/1e9\n",
        "#print(\"Available Memory is \" + str(used_ramgb) + \" gb\")\n",
        "\n",
        "X_train = X_train.astype('float16')\n",
        "X_valid = X_valid.astype('float16')\n",
        "\n",
        "# Normalization of pixel values (to [0-1] range)\n",
        "\n",
        "X_train /= 255\n",
        "X_valid /= 255\n",
        "\n",
        "used_ramgb=virtual_memory().available/1e9\n",
        "print(\"Available Memory is \" + str(used_ramgb) + \" gb\")"
      ],
      "execution_count": 35,
      "outputs": [
        {
          "output_type": "stream",
          "text": [
            "Available Memory is 11.601498112 gb\n",
            "Available Memory is 11.416379392 gb\n"
          ],
          "name": "stdout"
        }
      ]
    },
    {
      "cell_type": "code",
      "metadata": {
        "id": "8CuPlcZ5DNco",
        "colab_type": "code",
        "colab": {
          "base_uri": "https://localhost:8080/",
          "height": 34
        },
        "outputId": "4e43c38b-cd39-417e-d627-506bb5f65a8a"
      },
      "source": [
        "X_train.shape"
      ],
      "execution_count": 36,
      "outputs": [
        {
          "output_type": "execute_result",
          "data": {
            "text/plain": [
              "(8537, 112, 112, 3)"
            ]
          },
          "metadata": {
            "tags": []
          },
          "execution_count": 36
        }
      ]
    },
    {
      "cell_type": "code",
      "metadata": {
        "id": "T7YVe57gDYhT",
        "colab_type": "code",
        "colab": {
          "base_uri": "https://localhost:8080/",
          "height": 357
        },
        "outputId": "28ca6361-3fe3-4b2e-cebc-c8c443ad8a46"
      },
      "source": [
        "%%time\n",
        "model = Sequential()\n",
        "    \n",
        "model.add(InputLayer(input_shape=(112, 112, 3)))\n",
        "\n",
        "model.add(Conv2D(25, (5, 5), activation='relu', strides=(1, 1), padding='valid'))\n",
        "model.add(Conv2D(50, (5, 5), activation='relu', strides=(1, 1), padding='valid'))\n",
        "\n",
        "model.add(Flatten())\n",
        "\n",
        "model.add(Dense(units=100, activation='sigmoid'))\n",
        "model.add(Dense(units=1, activation='sigmoid'))\n",
        "\n",
        "model.summary()"
      ],
      "execution_count": 33,
      "outputs": [
        {
          "output_type": "stream",
          "text": [
            "Model: \"sequential_2\"\n",
            "_________________________________________________________________\n",
            "Layer (type)                 Output Shape              Param #   \n",
            "=================================================================\n",
            "conv2d_3 (Conv2D)            (None, 108, 108, 25)      1900      \n",
            "_________________________________________________________________\n",
            "conv2d_4 (Conv2D)            (None, 104, 104, 50)      31300     \n",
            "_________________________________________________________________\n",
            "flatten_2 (Flatten)          (None, 540800)            0         \n",
            "_________________________________________________________________\n",
            "dense_3 (Dense)              (None, 100)               54080100  \n",
            "_________________________________________________________________\n",
            "dense_4 (Dense)              (None, 1)                 101       \n",
            "=================================================================\n",
            "Total params: 54,113,401\n",
            "Trainable params: 54,113,401\n",
            "Non-trainable params: 0\n",
            "_________________________________________________________________\n",
            "CPU times: user 886 ms, sys: 636 ms, total: 1.52 s\n",
            "Wall time: 832 ms\n"
          ],
          "name": "stdout"
        }
      ]
    },
    {
      "cell_type": "code",
      "metadata": {
        "id": "VfYAYyvzDmmR",
        "colab_type": "code",
        "colab": {
          "base_uri": "https://localhost:8080/",
          "height": 119
        },
        "outputId": "4ece345c-9a77-43af-8072-6314fc8acc04"
      },
      "source": [
        "#check the available memory.\n",
        "\n",
        " \n",
        "ram_gb = virtual_memory().total / 1e9\n",
        "print('Your runtime has {:.1f} gigabytes of available RAM\\n'.format(ram_gb))\n",
        "\n",
        "if ram_gb < 20:\n",
        "\n",
        "    print('To enable a high-RAM runtime, select the Runtime → \"Change runtime type\"')\n",
        "\n",
        "    print('menu, and then select High-RAM in the Runtime shape dropdown. Then, ')\n",
        "\n",
        "    print('re-execute this cell.')\n",
        "else:\n",
        "    print('You are using a high-RAM runtime!')\n",
        "\n",
        "used_ramgb=virtual_memory().available/1e9\n",
        "print(\"Available Memory is \" + str(used_ramgb) + \" gb\")"
      ],
      "execution_count": 47,
      "outputs": [
        {
          "output_type": "stream",
          "text": [
            "Your runtime has 13.7 gigabytes of available RAM\n",
            "\n",
            "To enable a high-RAM runtime, select the Runtime → \"Change runtime type\"\n",
            "menu, and then select High-RAM in the Runtime shape dropdown. Then, \n",
            "re-execute this cell.\n",
            "Available Memory is 10.91659776 gb\n"
          ],
          "name": "stdout"
        }
      ]
    },
    {
      "cell_type": "markdown",
      "metadata": {
        "id": "j2ec_n3ay8S6",
        "colab_type": "text"
      },
      "source": [
        "###To make the model usable by a TPU, we first must create and compile it using a distribution strategy."
      ]
    },
    {
      "cell_type": "code",
      "metadata": {
        "id": "CenVok-GzAgR",
        "colab_type": "code",
        "colab": {
          "base_uri": "https://localhost:8080/",
          "height": 697
        },
        "outputId": "9bb74398-1717-4da4-88d7-a9b9198c699d"
      },
      "source": [
        "resolver = tf.distribute.cluster_resolver.TPUClusterResolver(TF_MASTER)\n",
        "tf.config.experimental_connect_to_cluster(resolver)\n",
        "tf.tpu.experimental.initialize_tpu_system(resolver)\n",
        "strategy = tf.distribute.experimental.TPUStrategy(resolver)"
      ],
      "execution_count": 37,
      "outputs": [
        {
          "output_type": "stream",
          "text": [
            "INFO:tensorflow:Initializing the TPU system: grpc://10.91.244.82:8470\n"
          ],
          "name": "stdout"
        },
        {
          "output_type": "stream",
          "text": [
            "INFO:tensorflow:Initializing the TPU system: grpc://10.91.244.82:8470\n"
          ],
          "name": "stderr"
        },
        {
          "output_type": "stream",
          "text": [
            "INFO:tensorflow:Clearing out eager caches\n"
          ],
          "name": "stdout"
        },
        {
          "output_type": "stream",
          "text": [
            "INFO:tensorflow:Clearing out eager caches\n"
          ],
          "name": "stderr"
        },
        {
          "output_type": "stream",
          "text": [
            "INFO:tensorflow:Finished initializing TPU system.\n"
          ],
          "name": "stdout"
        },
        {
          "output_type": "stream",
          "text": [
            "INFO:tensorflow:Finished initializing TPU system.\n"
          ],
          "name": "stderr"
        },
        {
          "output_type": "stream",
          "text": [
            "INFO:tensorflow:Found TPU system:\n"
          ],
          "name": "stdout"
        },
        {
          "output_type": "stream",
          "text": [
            "INFO:tensorflow:Found TPU system:\n"
          ],
          "name": "stderr"
        },
        {
          "output_type": "stream",
          "text": [
            "INFO:tensorflow:*** Num TPU Cores: 8\n"
          ],
          "name": "stdout"
        },
        {
          "output_type": "stream",
          "text": [
            "INFO:tensorflow:*** Num TPU Cores: 8\n"
          ],
          "name": "stderr"
        },
        {
          "output_type": "stream",
          "text": [
            "INFO:tensorflow:*** Num TPU Workers: 1\n"
          ],
          "name": "stdout"
        },
        {
          "output_type": "stream",
          "text": [
            "INFO:tensorflow:*** Num TPU Workers: 1\n"
          ],
          "name": "stderr"
        },
        {
          "output_type": "stream",
          "text": [
            "INFO:tensorflow:*** Num TPU Cores Per Worker: 8\n"
          ],
          "name": "stdout"
        },
        {
          "output_type": "stream",
          "text": [
            "INFO:tensorflow:*** Num TPU Cores Per Worker: 8\n"
          ],
          "name": "stderr"
        },
        {
          "output_type": "stream",
          "text": [
            "INFO:tensorflow:*** Available Device: _DeviceAttributes(/job:localhost/replica:0/task:0/device:CPU:0, CPU, 0, 0)\n"
          ],
          "name": "stdout"
        },
        {
          "output_type": "stream",
          "text": [
            "INFO:tensorflow:*** Available Device: _DeviceAttributes(/job:localhost/replica:0/task:0/device:CPU:0, CPU, 0, 0)\n"
          ],
          "name": "stderr"
        },
        {
          "output_type": "stream",
          "text": [
            "INFO:tensorflow:*** Available Device: _DeviceAttributes(/job:localhost/replica:0/task:0/device:XLA_CPU:0, XLA_CPU, 0, 0)\n"
          ],
          "name": "stdout"
        },
        {
          "output_type": "stream",
          "text": [
            "INFO:tensorflow:*** Available Device: _DeviceAttributes(/job:localhost/replica:0/task:0/device:XLA_CPU:0, XLA_CPU, 0, 0)\n"
          ],
          "name": "stderr"
        },
        {
          "output_type": "stream",
          "text": [
            "INFO:tensorflow:*** Available Device: _DeviceAttributes(/job:worker/replica:0/task:0/device:CPU:0, CPU, 0, 0)\n"
          ],
          "name": "stdout"
        },
        {
          "output_type": "stream",
          "text": [
            "INFO:tensorflow:*** Available Device: _DeviceAttributes(/job:worker/replica:0/task:0/device:CPU:0, CPU, 0, 0)\n"
          ],
          "name": "stderr"
        },
        {
          "output_type": "stream",
          "text": [
            "INFO:tensorflow:*** Available Device: _DeviceAttributes(/job:worker/replica:0/task:0/device:TPU:0, TPU, 0, 0)\n"
          ],
          "name": "stdout"
        },
        {
          "output_type": "stream",
          "text": [
            "INFO:tensorflow:*** Available Device: _DeviceAttributes(/job:worker/replica:0/task:0/device:TPU:0, TPU, 0, 0)\n"
          ],
          "name": "stderr"
        },
        {
          "output_type": "stream",
          "text": [
            "INFO:tensorflow:*** Available Device: _DeviceAttributes(/job:worker/replica:0/task:0/device:TPU:1, TPU, 0, 0)\n"
          ],
          "name": "stdout"
        },
        {
          "output_type": "stream",
          "text": [
            "INFO:tensorflow:*** Available Device: _DeviceAttributes(/job:worker/replica:0/task:0/device:TPU:1, TPU, 0, 0)\n"
          ],
          "name": "stderr"
        },
        {
          "output_type": "stream",
          "text": [
            "INFO:tensorflow:*** Available Device: _DeviceAttributes(/job:worker/replica:0/task:0/device:TPU:2, TPU, 0, 0)\n"
          ],
          "name": "stdout"
        },
        {
          "output_type": "stream",
          "text": [
            "INFO:tensorflow:*** Available Device: _DeviceAttributes(/job:worker/replica:0/task:0/device:TPU:2, TPU, 0, 0)\n"
          ],
          "name": "stderr"
        },
        {
          "output_type": "stream",
          "text": [
            "INFO:tensorflow:*** Available Device: _DeviceAttributes(/job:worker/replica:0/task:0/device:TPU:3, TPU, 0, 0)\n"
          ],
          "name": "stdout"
        },
        {
          "output_type": "stream",
          "text": [
            "INFO:tensorflow:*** Available Device: _DeviceAttributes(/job:worker/replica:0/task:0/device:TPU:3, TPU, 0, 0)\n"
          ],
          "name": "stderr"
        },
        {
          "output_type": "stream",
          "text": [
            "INFO:tensorflow:*** Available Device: _DeviceAttributes(/job:worker/replica:0/task:0/device:TPU:4, TPU, 0, 0)\n"
          ],
          "name": "stdout"
        },
        {
          "output_type": "stream",
          "text": [
            "INFO:tensorflow:*** Available Device: _DeviceAttributes(/job:worker/replica:0/task:0/device:TPU:4, TPU, 0, 0)\n"
          ],
          "name": "stderr"
        },
        {
          "output_type": "stream",
          "text": [
            "INFO:tensorflow:*** Available Device: _DeviceAttributes(/job:worker/replica:0/task:0/device:TPU:5, TPU, 0, 0)\n"
          ],
          "name": "stdout"
        },
        {
          "output_type": "stream",
          "text": [
            "INFO:tensorflow:*** Available Device: _DeviceAttributes(/job:worker/replica:0/task:0/device:TPU:5, TPU, 0, 0)\n"
          ],
          "name": "stderr"
        },
        {
          "output_type": "stream",
          "text": [
            "INFO:tensorflow:*** Available Device: _DeviceAttributes(/job:worker/replica:0/task:0/device:TPU:6, TPU, 0, 0)\n"
          ],
          "name": "stdout"
        },
        {
          "output_type": "stream",
          "text": [
            "INFO:tensorflow:*** Available Device: _DeviceAttributes(/job:worker/replica:0/task:0/device:TPU:6, TPU, 0, 0)\n"
          ],
          "name": "stderr"
        },
        {
          "output_type": "stream",
          "text": [
            "INFO:tensorflow:*** Available Device: _DeviceAttributes(/job:worker/replica:0/task:0/device:TPU:7, TPU, 0, 0)\n"
          ],
          "name": "stdout"
        },
        {
          "output_type": "stream",
          "text": [
            "INFO:tensorflow:*** Available Device: _DeviceAttributes(/job:worker/replica:0/task:0/device:TPU:7, TPU, 0, 0)\n"
          ],
          "name": "stderr"
        },
        {
          "output_type": "stream",
          "text": [
            "INFO:tensorflow:*** Available Device: _DeviceAttributes(/job:worker/replica:0/task:0/device:TPU_SYSTEM:0, TPU_SYSTEM, 0, 0)\n"
          ],
          "name": "stdout"
        },
        {
          "output_type": "stream",
          "text": [
            "INFO:tensorflow:*** Available Device: _DeviceAttributes(/job:worker/replica:0/task:0/device:TPU_SYSTEM:0, TPU_SYSTEM, 0, 0)\n"
          ],
          "name": "stderr"
        },
        {
          "output_type": "stream",
          "text": [
            "INFO:tensorflow:*** Available Device: _DeviceAttributes(/job:worker/replica:0/task:0/device:XLA_CPU:0, XLA_CPU, 0, 0)\n"
          ],
          "name": "stdout"
        },
        {
          "output_type": "stream",
          "text": [
            "INFO:tensorflow:*** Available Device: _DeviceAttributes(/job:worker/replica:0/task:0/device:XLA_CPU:0, XLA_CPU, 0, 0)\n"
          ],
          "name": "stderr"
        }
      ]
    },
    {
      "cell_type": "code",
      "metadata": {
        "id": "RjHGU9Yk8c06",
        "colab_type": "code",
        "colab": {}
      },
      "source": [
        "BATCH_SIZE=64*strategy.num_replicas_in_sync\n",
        "LEARNING_RATE=0.01\n",
        "LEARNING_RATE_EXP_DECAY=0.6 if strategy.num_replicas_in_sync == 1 else 0.7\n",
        "# Learning rate computed later as LEARNING_RATE * LEARNING_RATE_EXP_DECAY**epoch\n",
        "# 0.7 decay instead of 0.6 means a slower decay, i.e. a faster learnign rate.\n",
        "\n"
      ],
      "execution_count": 38,
      "outputs": []
    },
    {
      "cell_type": "code",
      "metadata": {
        "id": "MUGndJhlzklU",
        "colab_type": "code",
        "colab": {
          "base_uri": "https://localhost:8080/",
          "height": 323
        },
        "outputId": "bb6383eb-4e8e-40cc-895c-88651db07368"
      },
      "source": [
        "with strategy.scope():\n",
        "    model = Sequential()\n",
        "    model.add(InputLayer(input_shape=(112, 112, 3)))\n",
        "    model.add(Conv2D(50, (5, 5), activation='relu', strides=(1, 1), padding='valid'))\n",
        "    model.add(Conv2D(100, (5, 5), activation='relu', strides=(1, 1), padding='valid'))\n",
        "    model.add(Flatten())\n",
        "    model.add(Dense(units=100, activation='sigmoid'))\n",
        "    model.add(Dense(units=1, activation='sigmoid'))\n",
        "    model.compile(loss='binary_crossentropy', optimizer=\"adam\", metrics=['accuracy'])\n",
        "model.summary()\n",
        "lr_decay = tf.keras.callbacks.LearningRateScheduler(\n",
        "    lambda epoch: LEARNING_RATE * LEARNING_RATE_EXP_DECAY**epoch,\n",
        "    verbose=True)"
      ],
      "execution_count": 39,
      "outputs": [
        {
          "output_type": "stream",
          "text": [
            "Model: \"sequential_1\"\n",
            "_________________________________________________________________\n",
            "Layer (type)                 Output Shape              Param #   \n",
            "=================================================================\n",
            "conv2d_1 (Conv2D)            (None, 108, 108, 50)      3800      \n",
            "_________________________________________________________________\n",
            "conv2d_2 (Conv2D)            (None, 104, 104, 100)     125100    \n",
            "_________________________________________________________________\n",
            "flatten_1 (Flatten)          (None, 1081600)           0         \n",
            "_________________________________________________________________\n",
            "dense_1 (Dense)              (None, 100)               108160100 \n",
            "_________________________________________________________________\n",
            "dense_2 (Dense)              (None, 1)                 101       \n",
            "=================================================================\n",
            "Total params: 108,289,101\n",
            "Trainable params: 108,289,101\n",
            "Non-trainable params: 0\n",
            "_________________________________________________________________\n"
          ],
          "name": "stdout"
        }
      ]
    },
    {
      "cell_type": "code",
      "metadata": {
        "id": "1ciuxQo6oWhL",
        "colab_type": "code",
        "colab": {}
      },
      "source": [
        "#model.compile(loss='binary_crossentropy', optimizer=\"adam\", metrics=['accuracy'])"
      ],
      "execution_count": 35,
      "outputs": []
    },
    {
      "cell_type": "markdown",
      "metadata": {
        "id": "bXaVsbWCFV6f",
        "colab_type": "text"
      },
      "source": [
        "###Obvious that due to input image array reshaping and considering high dimensional image size, the consumed memory is quite high"
      ]
    },
    {
      "cell_type": "code",
      "metadata": {
        "id": "wIIhVBNzFgCj",
        "colab_type": "code",
        "colab": {
          "base_uri": "https://localhost:8080/",
          "height": 1000
        },
        "outputId": "bef643df-cecc-4ebc-8cd2-791f88488dd3"
      },
      "source": [
        "%%time\n",
        "\n",
        "#history = model.fit(X_train,y_train, steps_per_epoch = steps_per_epoch,epochs=epochs,  validation_data=(X_valid,y_valid))\n",
        "epochs=15\n",
        "compute_steps_per_epoch = lambda x: int(math.ceil(1. * x / 32))\n",
        "print(BATCH_SIZE)\n",
        "#steps_per_epoch = 8537//BATCH_SIZE  # 8537 items in this dataset\n",
        "steps_per_epoch = compute_steps_per_epoch(X_train.shape[0])\n",
        "val_steps = compute_steps_per_epoch(X_valid.shape[0])\n",
        "\n",
        "history = model.fit(X_train,y_train,epochs=epochs,steps_per_epoch=steps_per_epoch, validation_steps=val_steps, validation_data=(X_valid,y_valid))\n",
        "#history = model.fit(X_train,y_train,epochs=epochs, validation_data=(X_valid,y_valid))\n",
        "#model.fit(X_train, Y_train, epochs=10, validation_data=(X_valid,Y_valid))"
      ],
      "execution_count": 50,
      "outputs": [
        {
          "output_type": "stream",
          "text": [
            "512\n",
            "Train on 8537 samples, validate on 3659 samples\n",
            "Epoch 1/15\n"
          ],
          "name": "stdout"
        },
        {
          "output_type": "error",
          "ename": "InvalidArgumentError",
          "evalue": "ignored",
          "traceback": [
            "\u001b[0;31m---------------------------------------------------------------------------\u001b[0m",
            "\u001b[0;31mInvalidArgumentError\u001b[0m                      Traceback (most recent call last)",
            "\u001b[0;32m<ipython-input-50-d3834d1b3bca>\u001b[0m in \u001b[0;36m<module>\u001b[0;34m()\u001b[0m\n\u001b[0;32m----> 1\u001b[0;31m \u001b[0mget_ipython\u001b[0m\u001b[0;34m(\u001b[0m\u001b[0;34m)\u001b[0m\u001b[0;34m.\u001b[0m\u001b[0mrun_cell_magic\u001b[0m\u001b[0;34m(\u001b[0m\u001b[0;34m'time'\u001b[0m\u001b[0;34m,\u001b[0m \u001b[0;34m''\u001b[0m\u001b[0;34m,\u001b[0m \u001b[0;34m'\\n#history = model.fit(X_train,y_train, steps_per_epoch = steps_per_epoch,epochs=epochs,  validation_data=(X_valid,y_valid))\\nepochs=15\\ncompute_steps_per_epoch = lambda x: int(math.ceil(1. * x / 32))\\nprint(BATCH_SIZE)\\n#steps_per_epoch = 8537//BATCH_SIZE  # 8537 items in this dataset\\nsteps_per_epoch = compute_steps_per_epoch(X_train.shape[0])\\nval_steps = compute_steps_per_epoch(X_valid.shape[0])\\n\\nhistory = model.fit(X_train,y_train,epochs=epochs,steps_per_epoch=steps_per_epoch, validation_steps=val_steps, validation_data=(X_valid,y_valid))\\n#history = model.fit(X_train,y_train,epochs=epochs, validation_data=(X_valid,y_valid))\\n#model.fit(X_train, Y_train, epochs=10, validation_data=(X_valid,Y_valid))'\u001b[0m\u001b[0;34m)\u001b[0m\u001b[0;34m\u001b[0m\u001b[0;34m\u001b[0m\u001b[0m\n\u001b[0m",
            "\u001b[0;32m/usr/local/lib/python3.6/dist-packages/IPython/core/interactiveshell.py\u001b[0m in \u001b[0;36mrun_cell_magic\u001b[0;34m(self, magic_name, line, cell)\u001b[0m\n\u001b[1;32m   2115\u001b[0m             \u001b[0mmagic_arg_s\u001b[0m \u001b[0;34m=\u001b[0m \u001b[0mself\u001b[0m\u001b[0;34m.\u001b[0m\u001b[0mvar_expand\u001b[0m\u001b[0;34m(\u001b[0m\u001b[0mline\u001b[0m\u001b[0;34m,\u001b[0m \u001b[0mstack_depth\u001b[0m\u001b[0;34m)\u001b[0m\u001b[0;34m\u001b[0m\u001b[0;34m\u001b[0m\u001b[0m\n\u001b[1;32m   2116\u001b[0m             \u001b[0;32mwith\u001b[0m \u001b[0mself\u001b[0m\u001b[0;34m.\u001b[0m\u001b[0mbuiltin_trap\u001b[0m\u001b[0;34m:\u001b[0m\u001b[0;34m\u001b[0m\u001b[0;34m\u001b[0m\u001b[0m\n\u001b[0;32m-> 2117\u001b[0;31m                 \u001b[0mresult\u001b[0m \u001b[0;34m=\u001b[0m \u001b[0mfn\u001b[0m\u001b[0;34m(\u001b[0m\u001b[0mmagic_arg_s\u001b[0m\u001b[0;34m,\u001b[0m \u001b[0mcell\u001b[0m\u001b[0;34m)\u001b[0m\u001b[0;34m\u001b[0m\u001b[0;34m\u001b[0m\u001b[0m\n\u001b[0m\u001b[1;32m   2118\u001b[0m             \u001b[0;32mreturn\u001b[0m \u001b[0mresult\u001b[0m\u001b[0;34m\u001b[0m\u001b[0;34m\u001b[0m\u001b[0m\n\u001b[1;32m   2119\u001b[0m \u001b[0;34m\u001b[0m\u001b[0m\n",
            "\u001b[0;32m<decorator-gen-60>\u001b[0m in \u001b[0;36mtime\u001b[0;34m(self, line, cell, local_ns)\u001b[0m\n",
            "\u001b[0;32m/usr/local/lib/python3.6/dist-packages/IPython/core/magic.py\u001b[0m in \u001b[0;36m<lambda>\u001b[0;34m(f, *a, **k)\u001b[0m\n\u001b[1;32m    186\u001b[0m     \u001b[0;31m# but it's overkill for just that one bit of state.\u001b[0m\u001b[0;34m\u001b[0m\u001b[0;34m\u001b[0m\u001b[0;34m\u001b[0m\u001b[0m\n\u001b[1;32m    187\u001b[0m     \u001b[0;32mdef\u001b[0m \u001b[0mmagic_deco\u001b[0m\u001b[0;34m(\u001b[0m\u001b[0marg\u001b[0m\u001b[0;34m)\u001b[0m\u001b[0;34m:\u001b[0m\u001b[0;34m\u001b[0m\u001b[0;34m\u001b[0m\u001b[0m\n\u001b[0;32m--> 188\u001b[0;31m         \u001b[0mcall\u001b[0m \u001b[0;34m=\u001b[0m \u001b[0;32mlambda\u001b[0m \u001b[0mf\u001b[0m\u001b[0;34m,\u001b[0m \u001b[0;34m*\u001b[0m\u001b[0ma\u001b[0m\u001b[0;34m,\u001b[0m \u001b[0;34m**\u001b[0m\u001b[0mk\u001b[0m\u001b[0;34m:\u001b[0m \u001b[0mf\u001b[0m\u001b[0;34m(\u001b[0m\u001b[0;34m*\u001b[0m\u001b[0ma\u001b[0m\u001b[0;34m,\u001b[0m \u001b[0;34m**\u001b[0m\u001b[0mk\u001b[0m\u001b[0;34m)\u001b[0m\u001b[0;34m\u001b[0m\u001b[0;34m\u001b[0m\u001b[0m\n\u001b[0m\u001b[1;32m    189\u001b[0m \u001b[0;34m\u001b[0m\u001b[0m\n\u001b[1;32m    190\u001b[0m         \u001b[0;32mif\u001b[0m \u001b[0mcallable\u001b[0m\u001b[0;34m(\u001b[0m\u001b[0marg\u001b[0m\u001b[0;34m)\u001b[0m\u001b[0;34m:\u001b[0m\u001b[0;34m\u001b[0m\u001b[0;34m\u001b[0m\u001b[0m\n",
            "\u001b[0;32m/usr/local/lib/python3.6/dist-packages/IPython/core/magics/execution.py\u001b[0m in \u001b[0;36mtime\u001b[0;34m(self, line, cell, local_ns)\u001b[0m\n\u001b[1;32m   1191\u001b[0m         \u001b[0;32melse\u001b[0m\u001b[0;34m:\u001b[0m\u001b[0;34m\u001b[0m\u001b[0;34m\u001b[0m\u001b[0m\n\u001b[1;32m   1192\u001b[0m             \u001b[0mst\u001b[0m \u001b[0;34m=\u001b[0m \u001b[0mclock2\u001b[0m\u001b[0;34m(\u001b[0m\u001b[0;34m)\u001b[0m\u001b[0;34m\u001b[0m\u001b[0;34m\u001b[0m\u001b[0m\n\u001b[0;32m-> 1193\u001b[0;31m             \u001b[0mexec\u001b[0m\u001b[0;34m(\u001b[0m\u001b[0mcode\u001b[0m\u001b[0;34m,\u001b[0m \u001b[0mglob\u001b[0m\u001b[0;34m,\u001b[0m \u001b[0mlocal_ns\u001b[0m\u001b[0;34m)\u001b[0m\u001b[0;34m\u001b[0m\u001b[0;34m\u001b[0m\u001b[0m\n\u001b[0m\u001b[1;32m   1194\u001b[0m             \u001b[0mend\u001b[0m \u001b[0;34m=\u001b[0m \u001b[0mclock2\u001b[0m\u001b[0;34m(\u001b[0m\u001b[0;34m)\u001b[0m\u001b[0;34m\u001b[0m\u001b[0;34m\u001b[0m\u001b[0m\n\u001b[1;32m   1195\u001b[0m             \u001b[0mout\u001b[0m \u001b[0;34m=\u001b[0m \u001b[0;32mNone\u001b[0m\u001b[0;34m\u001b[0m\u001b[0;34m\u001b[0m\u001b[0m\n",
            "\u001b[0;32m<timed exec>\u001b[0m in \u001b[0;36m<module>\u001b[0;34m()\u001b[0m\n",
            "\u001b[0;32m/usr/local/lib/python3.6/dist-packages/keras/engine/training.py\u001b[0m in \u001b[0;36mfit\u001b[0;34m(self, x, y, batch_size, epochs, verbose, callbacks, validation_split, validation_data, shuffle, class_weight, sample_weight, initial_epoch, steps_per_epoch, validation_steps, validation_freq, max_queue_size, workers, use_multiprocessing, **kwargs)\u001b[0m\n\u001b[1;32m   1237\u001b[0m                                         \u001b[0msteps_per_epoch\u001b[0m\u001b[0;34m=\u001b[0m\u001b[0msteps_per_epoch\u001b[0m\u001b[0;34m,\u001b[0m\u001b[0;34m\u001b[0m\u001b[0;34m\u001b[0m\u001b[0m\n\u001b[1;32m   1238\u001b[0m                                         \u001b[0mvalidation_steps\u001b[0m\u001b[0;34m=\u001b[0m\u001b[0mvalidation_steps\u001b[0m\u001b[0;34m,\u001b[0m\u001b[0;34m\u001b[0m\u001b[0;34m\u001b[0m\u001b[0m\n\u001b[0;32m-> 1239\u001b[0;31m                                         validation_freq=validation_freq)\n\u001b[0m\u001b[1;32m   1240\u001b[0m \u001b[0;34m\u001b[0m\u001b[0m\n\u001b[1;32m   1241\u001b[0m     def evaluate(self,\n",
            "\u001b[0;32m/usr/local/lib/python3.6/dist-packages/keras/engine/training_arrays.py\u001b[0m in \u001b[0;36mfit_loop\u001b[0;34m(model, fit_function, fit_inputs, out_labels, batch_size, epochs, verbose, callbacks, val_function, val_inputs, shuffle, initial_epoch, steps_per_epoch, validation_steps, validation_freq)\u001b[0m\n\u001b[1;32m    150\u001b[0m                 \u001b[0mbatch_logs\u001b[0m \u001b[0;34m=\u001b[0m \u001b[0;34m{\u001b[0m\u001b[0;34m'batch'\u001b[0m\u001b[0;34m:\u001b[0m \u001b[0mstep_index\u001b[0m\u001b[0;34m,\u001b[0m \u001b[0;34m'size'\u001b[0m\u001b[0;34m:\u001b[0m \u001b[0;36m1\u001b[0m\u001b[0;34m}\u001b[0m\u001b[0;34m\u001b[0m\u001b[0;34m\u001b[0m\u001b[0m\n\u001b[1;32m    151\u001b[0m                 \u001b[0mcallbacks\u001b[0m\u001b[0;34m.\u001b[0m\u001b[0m_call_batch_hook\u001b[0m\u001b[0;34m(\u001b[0m\u001b[0;34m'train'\u001b[0m\u001b[0;34m,\u001b[0m \u001b[0;34m'begin'\u001b[0m\u001b[0;34m,\u001b[0m \u001b[0mstep_index\u001b[0m\u001b[0;34m,\u001b[0m \u001b[0mbatch_logs\u001b[0m\u001b[0;34m)\u001b[0m\u001b[0;34m\u001b[0m\u001b[0;34m\u001b[0m\u001b[0m\n\u001b[0;32m--> 152\u001b[0;31m                 \u001b[0mouts\u001b[0m \u001b[0;34m=\u001b[0m \u001b[0mfit_function\u001b[0m\u001b[0;34m(\u001b[0m\u001b[0mfit_inputs\u001b[0m\u001b[0;34m)\u001b[0m\u001b[0;34m\u001b[0m\u001b[0;34m\u001b[0m\u001b[0m\n\u001b[0m\u001b[1;32m    153\u001b[0m \u001b[0;34m\u001b[0m\u001b[0m\n\u001b[1;32m    154\u001b[0m                 \u001b[0mouts\u001b[0m \u001b[0;34m=\u001b[0m \u001b[0mto_list\u001b[0m\u001b[0;34m(\u001b[0m\u001b[0mouts\u001b[0m\u001b[0;34m)\u001b[0m\u001b[0;34m\u001b[0m\u001b[0;34m\u001b[0m\u001b[0m\n",
            "\u001b[0;32m/usr/local/lib/python3.6/dist-packages/tensorflow/python/keras/backend.py\u001b[0m in \u001b[0;36m__call__\u001b[0;34m(self, inputs)\u001b[0m\n\u001b[1;32m   3798\u001b[0m     return nest.pack_sequence_as(\n\u001b[1;32m   3799\u001b[0m         \u001b[0mself\u001b[0m\u001b[0;34m.\u001b[0m\u001b[0m_outputs_structure\u001b[0m\u001b[0;34m,\u001b[0m\u001b[0;34m\u001b[0m\u001b[0;34m\u001b[0m\u001b[0m\n\u001b[0;32m-> 3800\u001b[0;31m         \u001b[0;34m[\u001b[0m\u001b[0mx\u001b[0m\u001b[0;34m.\u001b[0m\u001b[0m_numpy\u001b[0m\u001b[0;34m(\u001b[0m\u001b[0;34m)\u001b[0m \u001b[0;32mfor\u001b[0m \u001b[0mx\u001b[0m \u001b[0;32min\u001b[0m \u001b[0moutputs\u001b[0m\u001b[0;34m]\u001b[0m\u001b[0;34m,\u001b[0m  \u001b[0;31m# pylint: disable=protected-access\u001b[0m\u001b[0;34m\u001b[0m\u001b[0;34m\u001b[0m\u001b[0m\n\u001b[0m\u001b[1;32m   3801\u001b[0m         expand_composites=True)\n\u001b[1;32m   3802\u001b[0m \u001b[0;34m\u001b[0m\u001b[0m\n",
            "\u001b[0;32m/usr/local/lib/python3.6/dist-packages/tensorflow/python/keras/backend.py\u001b[0m in \u001b[0;36m<listcomp>\u001b[0;34m(.0)\u001b[0m\n\u001b[1;32m   3798\u001b[0m     return nest.pack_sequence_as(\n\u001b[1;32m   3799\u001b[0m         \u001b[0mself\u001b[0m\u001b[0;34m.\u001b[0m\u001b[0m_outputs_structure\u001b[0m\u001b[0;34m,\u001b[0m\u001b[0;34m\u001b[0m\u001b[0;34m\u001b[0m\u001b[0m\n\u001b[0;32m-> 3800\u001b[0;31m         \u001b[0;34m[\u001b[0m\u001b[0mx\u001b[0m\u001b[0;34m.\u001b[0m\u001b[0m_numpy\u001b[0m\u001b[0;34m(\u001b[0m\u001b[0;34m)\u001b[0m \u001b[0;32mfor\u001b[0m \u001b[0mx\u001b[0m \u001b[0;32min\u001b[0m \u001b[0moutputs\u001b[0m\u001b[0;34m]\u001b[0m\u001b[0;34m,\u001b[0m  \u001b[0;31m# pylint: disable=protected-access\u001b[0m\u001b[0;34m\u001b[0m\u001b[0;34m\u001b[0m\u001b[0m\n\u001b[0m\u001b[1;32m   3801\u001b[0m         expand_composites=True)\n\u001b[1;32m   3802\u001b[0m \u001b[0;34m\u001b[0m\u001b[0m\n",
            "\u001b[0;32m/usr/local/lib/python3.6/dist-packages/tensorflow/python/framework/ops.py\u001b[0m in \u001b[0;36m_numpy\u001b[0;34m(self)\u001b[0m\n\u001b[1;32m    927\u001b[0m       \u001b[0;32mreturn\u001b[0m \u001b[0mself\u001b[0m\u001b[0;34m.\u001b[0m\u001b[0m_numpy_internal\u001b[0m\u001b[0;34m(\u001b[0m\u001b[0;34m)\u001b[0m\u001b[0;34m\u001b[0m\u001b[0;34m\u001b[0m\u001b[0m\n\u001b[1;32m    928\u001b[0m     \u001b[0;32mexcept\u001b[0m \u001b[0mcore\u001b[0m\u001b[0;34m.\u001b[0m\u001b[0m_NotOkStatusException\u001b[0m \u001b[0;32mas\u001b[0m \u001b[0me\u001b[0m\u001b[0;34m:\u001b[0m\u001b[0;34m\u001b[0m\u001b[0;34m\u001b[0m\u001b[0m\n\u001b[0;32m--> 929\u001b[0;31m       \u001b[0msix\u001b[0m\u001b[0;34m.\u001b[0m\u001b[0mraise_from\u001b[0m\u001b[0;34m(\u001b[0m\u001b[0mcore\u001b[0m\u001b[0;34m.\u001b[0m\u001b[0m_status_to_exception\u001b[0m\u001b[0;34m(\u001b[0m\u001b[0me\u001b[0m\u001b[0;34m.\u001b[0m\u001b[0mcode\u001b[0m\u001b[0;34m,\u001b[0m \u001b[0me\u001b[0m\u001b[0;34m.\u001b[0m\u001b[0mmessage\u001b[0m\u001b[0;34m)\u001b[0m\u001b[0;34m,\u001b[0m \u001b[0;32mNone\u001b[0m\u001b[0;34m)\u001b[0m\u001b[0;34m\u001b[0m\u001b[0;34m\u001b[0m\u001b[0m\n\u001b[0m\u001b[1;32m    930\u001b[0m \u001b[0;34m\u001b[0m\u001b[0m\n\u001b[1;32m    931\u001b[0m   \u001b[0;34m@\u001b[0m\u001b[0mproperty\u001b[0m\u001b[0;34m\u001b[0m\u001b[0;34m\u001b[0m\u001b[0m\n",
            "\u001b[0;32m/usr/local/lib/python3.6/dist-packages/six.py\u001b[0m in \u001b[0;36mraise_from\u001b[0;34m(value, from_value)\u001b[0m\n",
            "\u001b[0;31mInvalidArgumentError\u001b[0m: {{function_node __inference_keras_scratch_graph_2346}} BiasGrad requires tensor size <= int32 max\n\t [[{{node gradients/conv2d_2/BiasAdd_grad/BiasAddGrad}}]]"
          ]
        }
      ]
    },
    {
      "cell_type": "code",
      "metadata": {
        "id": "AVMaYPinICw7",
        "colab_type": "code",
        "colab": {
          "base_uri": "https://localhost:8080/",
          "height": 34
        },
        "outputId": "34e311cf-7cd9-4021-8123-32e1c4c96ac8"
      },
      "source": [
        "used_ramgb=virtual_memory().available/1e9\n",
        "print(\"Available Memory is \" + str(used_ramgb) + \" gb\")"
      ],
      "execution_count": 37,
      "outputs": [
        {
          "output_type": "stream",
          "text": [
            "Available Memory is 11.191025664 gb\n"
          ],
          "name": "stdout"
        }
      ]
    },
    {
      "cell_type": "code",
      "metadata": {
        "id": "4mhCoTA6IJh5",
        "colab_type": "code",
        "colab": {}
      },
      "source": [
        "def plotLosses(history):  \n",
        "    plt.plot(history.history['loss'])\n",
        "    plt.plot(history.history['val_loss'])\n",
        "    plt.title('model loss')\n",
        "    plt.ylabel('loss')\n",
        "    plt.xlabel('epoch')\n",
        "    plt.legend(['train', 'validation'], loc='upper left')\n",
        "    plt.show()"
      ],
      "execution_count": 38,
      "outputs": []
    },
    {
      "cell_type": "code",
      "metadata": {
        "id": "3PeDG9WVILF5",
        "colab_type": "code",
        "colab": {
          "base_uri": "https://localhost:8080/",
          "height": 295
        },
        "outputId": "6fe9ec7d-15b8-46cb-958f-67e995c1b09d"
      },
      "source": [
        "plotLosses(history)"
      ],
      "execution_count": 39,
      "outputs": [
        {
          "output_type": "display_data",
          "data": {
            "image/png": "[encoded data removed]",
            "text/plain": [
              "<Figure size 432x288 with 1 Axes>"
            ]
          },
          "metadata": {
            "tags": [],
            "needs_background": "light"
          }
        }
      ]
    },
    {
      "cell_type": "code",
      "metadata": {
        "id": "Em6iAHsdIWKp",
        "colab_type": "code",
        "colab": {
          "base_uri": "https://localhost:8080/",
          "height": 51
        },
        "outputId": "852cfa6f-8683-4cd8-8523-3ab877c07172"
      },
      "source": [
        "score = model.evaluate(X_valid, y_valid, batch_size=128, verbose=0)\n",
        "print(model.metrics_names)\n",
        "print(score)"
      ],
      "execution_count": 40,
      "outputs": [
        {
          "output_type": "stream",
          "text": [
            "['loss', 'accuracy']\n",
            "[0.43155909496827605, 0.8395736813545227]\n"
          ],
          "name": "stdout"
        }
      ]
    },
    {
      "cell_type": "code",
      "metadata": {
        "id": "SiVoF0AmKuiY",
        "colab_type": "code",
        "colab": {
          "base_uri": "https://localhost:8080/",
          "height": 173
        },
        "outputId": "0d185854-51e7-4c9e-c0a8-6205501a7856"
      },
      "source": [
        "tst_data=pd.read_csv(root_path+'/test_fkwGUNG.csv')\n",
        "tst_data.describe()"
      ],
      "execution_count": 41,
      "outputs": [
        {
          "output_type": "execute_result",
          "data": {
            "text/html": [
              "<div>\n",
              "<style scoped>\n",
              "    .dataframe tbody tr th:only-of-type {\n",
              "        vertical-align: middle;\n",
              "    }\n",
              "\n",
              "    .dataframe tbody tr th {\n",
              "        vertical-align: top;\n",
              "    }\n",
              "\n",
              "    .dataframe thead th {\n",
              "        text-align: right;\n",
              "    }\n",
              "</style>\n",
              "<table border=\"1\" class=\"dataframe\">\n",
              "  <thead>\n",
              "    <tr style=\"text-align: right;\">\n",
              "      <th></th>\n",
              "      <th>image_names</th>\n",
              "    </tr>\n",
              "  </thead>\n",
              "  <tbody>\n",
              "    <tr>\n",
              "      <th>count</th>\n",
              "      <td>5227</td>\n",
              "    </tr>\n",
              "    <tr>\n",
              "      <th>unique</th>\n",
              "      <td>5227</td>\n",
              "    </tr>\n",
              "    <tr>\n",
              "      <th>top</th>\n",
              "      <td>8555.jpg</td>\n",
              "    </tr>\n",
              "    <tr>\n",
              "      <th>freq</th>\n",
              "      <td>1</td>\n",
              "    </tr>\n",
              "  </tbody>\n",
              "</table>\n",
              "</div>"
            ],
            "text/plain": [
              "       image_names\n",
              "count         5227\n",
              "unique        5227\n",
              "top       8555.jpg\n",
              "freq             1"
            ]
          },
          "metadata": {
            "tags": []
          },
          "execution_count": 41
        }
      ]
    },
    {
      "cell_type": "code",
      "metadata": {
        "id": "bMFWQxDHIdkC",
        "colab_type": "code",
        "colab": {
          "base_uri": "https://localhost:8080/",
          "height": 85
        },
        "outputId": "571c07f8-7f84-4055-b6da-af353f5797c8"
      },
      "source": [
        "\n",
        "%%time\n",
        "X=[]\n",
        "path=\"\"\n",
        "dir=\"\"\n",
        "for img_name in tqdm(tst_data.image_names):\n",
        "    dir=imgDF.loc[imgDF['image_name']== img_name,'imgDirLocation'].iloc[0]\n",
        "    path=dir+'/'+img_name\n",
        "    #print(dir)\n",
        "    #img = plt.imread(path)\n",
        "    img=cv2.imread(path)\n",
        "    img_resized=cv2.resize(img,(112,112))\n",
        "    img_resized=img_resized.astype('float16')\n",
        "    img_resized=img_resized/255\n",
        "    X.append(img_resized)\n",
        "    #print(str(i)+\". \"+path)\n",
        "    i+=1\n",
        "X_a=np.array(X)\n",
        "X_a.shape\n",
        "used_ramgb=virtual_memory().available/1e9\n",
        "print(\"Available Memory is \" + str(used_ramgb) + \" gb\")"
      ],
      "execution_count": 42,
      "outputs": [
        {
          "output_type": "stream",
          "text": [
            "100%|██████████| 5227/5227 [22:26<00:00,  3.88it/s]"
          ],
          "name": "stderr"
        },
        {
          "output_type": "stream",
          "text": [
            "Available Memory is 11.666284544 gb\n",
            "CPU times: user 34.7 s, sys: 4.77 s, total: 39.4 s\n",
            "Wall time: 22min 26s\n"
          ],
          "name": "stdout"
        },
        {
          "output_type": "stream",
          "text": [
            "\n"
          ],
          "name": "stderr"
        }
      ]
    },
    {
      "cell_type": "code",
      "metadata": {
        "id": "ZNEUcLWv5p8U",
        "colab_type": "code",
        "colab": {
          "base_uri": "https://localhost:8080/",
          "height": 51
        },
        "outputId": "1c90a4ea-21c7-4fd0-d3d3-5107c0274799"
      },
      "source": [
        "#X_a = np.reshape(X_a,(-1,112*112*3))\n",
        "%%time\n",
        "prediction = model.predict_classes(X_a)"
      ],
      "execution_count": 43,
      "outputs": [
        {
          "output_type": "stream",
          "text": [
            "CPU times: user 3min 57s, sys: 744 ms, total: 3min 57s\n",
            "Wall time: 2min 4s\n"
          ],
          "name": "stdout"
        }
      ]
    },
    {
      "cell_type": "code",
      "metadata": {
        "id": "u75pLE16OLJc",
        "colab_type": "code",
        "colab": {
          "base_uri": "https://localhost:8080/",
          "height": 955
        },
        "outputId": "f511bba9-febc-4bed-d0fb-75488fb16f65"
      },
      "source": [
        "!!cat /proc/cpuinfo"
      ],
      "execution_count": 50,
      "outputs": [
        {
          "output_type": "execute_result",
          "data": {
            "text/plain": [
              "['processor\\t: 0',\n",
              " 'vendor_id\\t: GenuineIntel',\n",
              " 'cpu family\\t: 6',\n",
              " 'model\\t\\t: 63',\n",
              " 'model name\\t: Intel(R) Xeon(R) CPU @ 2.30GHz',\n",
              " 'stepping\\t: 0',\n",
              " 'microcode\\t: 0x1',\n",
              " 'cpu MHz\\t\\t: 2300.000',\n",
              " 'cache size\\t: 46080 KB',\n",
              " 'physical id\\t: 0',\n",
              " 'siblings\\t: 2',\n",
              " 'core id\\t\\t: 0',\n",
              " 'cpu cores\\t: 1',\n",
              " 'apicid\\t\\t: 0',\n",
              " 'initial apicid\\t: 0',\n",
              " 'fpu\\t\\t: yes',\n",
              " 'fpu_exception\\t: yes',\n",
              " 'cpuid level\\t: 13',\n",
              " 'wp\\t\\t: yes',\n",
              " 'flags\\t\\t: fpu vme de pse tsc msr pae mce cx8 apic sep mtrr pge mca cmov pat pse36 clflush mmx fxsr sse sse2 ss ht syscall nx pdpe1gb rdtscp lm constant_tsc rep_good nopl xtopology nonstop_tsc cpuid tsc_known_freq pni pclmulqdq ssse3 fma cx16 pcid sse4_1 sse4_2 x2apic movbe popcnt aes xsave avx f16c rdrand hypervisor lahf_lm abm invpcid_single ssbd ibrs ibpb stibp fsgsbase tsc_adjust bmi1 avx2 smep bmi2 erms invpcid xsaveopt arat md_clear arch_capabilities',\n",
              " 'bugs\\t\\t: cpu_meltdown spectre_v1 spectre_v2 spec_store_bypass l1tf mds swapgs',\n",
              " 'bogomips\\t: 4600.00',\n",
              " 'clflush size\\t: 64',\n",
              " 'cache_alignment\\t: 64',\n",
              " 'address sizes\\t: 46 bits physical, 48 bits virtual',\n",
              " 'power management:',\n",
              " '',\n",
              " 'processor\\t: 1',\n",
              " 'vendor_id\\t: GenuineIntel',\n",
              " 'cpu family\\t: 6',\n",
              " 'model\\t\\t: 63',\n",
              " 'model name\\t: Intel(R) Xeon(R) CPU @ 2.30GHz',\n",
              " 'stepping\\t: 0',\n",
              " 'microcode\\t: 0x1',\n",
              " 'cpu MHz\\t\\t: 2300.000',\n",
              " 'cache size\\t: 46080 KB',\n",
              " 'physical id\\t: 0',\n",
              " 'siblings\\t: 2',\n",
              " 'core id\\t\\t: 0',\n",
              " 'cpu cores\\t: 1',\n",
              " 'apicid\\t\\t: 1',\n",
              " 'initial apicid\\t: 1',\n",
              " 'fpu\\t\\t: yes',\n",
              " 'fpu_exception\\t: yes',\n",
              " 'cpuid level\\t: 13',\n",
              " 'wp\\t\\t: yes',\n",
              " 'flags\\t\\t: fpu vme de pse tsc msr pae mce cx8 apic sep mtrr pge mca cmov pat pse36 clflush mmx fxsr sse sse2 ss ht syscall nx pdpe1gb rdtscp lm constant_tsc rep_good nopl xtopology nonstop_tsc cpuid tsc_known_freq pni pclmulqdq ssse3 fma cx16 pcid sse4_1 sse4_2 x2apic movbe popcnt aes xsave avx f16c rdrand hypervisor lahf_lm abm invpcid_single ssbd ibrs ibpb stibp fsgsbase tsc_adjust bmi1 avx2 smep bmi2 erms invpcid xsaveopt arat md_clear arch_capabilities',\n",
              " 'bugs\\t\\t: cpu_meltdown spectre_v1 spectre_v2 spec_store_bypass l1tf mds swapgs',\n",
              " 'bogomips\\t: 4600.00',\n",
              " 'clflush size\\t: 64',\n",
              " 'cache_alignment\\t: 64',\n",
              " 'address sizes\\t: 46 bits physical, 48 bits virtual',\n",
              " 'power management:',\n",
              " '']"
            ]
          },
          "metadata": {
            "tags": []
          },
          "execution_count": 50
        }
      ]
    },
    {
      "cell_type": "code",
      "metadata": {
        "id": "1cVg3FKe_483",
        "colab_type": "code",
        "colab": {
          "base_uri": "https://localhost:8080/",
          "height": 34
        },
        "outputId": "c6e6078d-cb13-449b-ee34-5f23b997b3ee"
      },
      "source": [
        "prediction.shape"
      ],
      "execution_count": 45,
      "outputs": [
        {
          "output_type": "execute_result",
          "data": {
            "text/plain": [
              "(5227, 1)"
            ]
          },
          "metadata": {
            "tags": []
          },
          "execution_count": 45
        }
      ]
    },
    {
      "cell_type": "code",
      "metadata": {
        "id": "BuLTfAFO7Ziu",
        "colab_type": "code",
        "colab": {
          "base_uri": "https://localhost:8080/",
          "height": 173
        },
        "outputId": "4a66cab1-d29d-4638-aad9-cf3e6f05466b"
      },
      "source": [
        "clmn_names_op=['image_name','prediction']\n",
        "dfOutput = pd.DataFrame(columns=clmn_names_op)\n",
        "dfOutput.describe()\n"
      ],
      "execution_count": 46,
      "outputs": [
        {
          "output_type": "execute_result",
          "data": {
            "text/html": [
              "<div>\n",
              "<style scoped>\n",
              "    .dataframe tbody tr th:only-of-type {\n",
              "        vertical-align: middle;\n",
              "    }\n",
              "\n",
              "    .dataframe tbody tr th {\n",
              "        vertical-align: top;\n",
              "    }\n",
              "\n",
              "    .dataframe thead th {\n",
              "        text-align: right;\n",
              "    }\n",
              "</style>\n",
              "<table border=\"1\" class=\"dataframe\">\n",
              "  <thead>\n",
              "    <tr style=\"text-align: right;\">\n",
              "      <th></th>\n",
              "      <th>image_name</th>\n",
              "      <th>prediction</th>\n",
              "    </tr>\n",
              "  </thead>\n",
              "  <tbody>\n",
              "    <tr>\n",
              "      <th>count</th>\n",
              "      <td>0</td>\n",
              "      <td>0</td>\n",
              "    </tr>\n",
              "    <tr>\n",
              "      <th>unique</th>\n",
              "      <td>0</td>\n",
              "      <td>0</td>\n",
              "    </tr>\n",
              "    <tr>\n",
              "      <th>top</th>\n",
              "      <td>NaN</td>\n",
              "      <td>NaN</td>\n",
              "    </tr>\n",
              "    <tr>\n",
              "      <th>freq</th>\n",
              "      <td>NaN</td>\n",
              "      <td>NaN</td>\n",
              "    </tr>\n",
              "  </tbody>\n",
              "</table>\n",
              "</div>"
            ],
            "text/plain": [
              "       image_name prediction\n",
              "count           0          0\n",
              "unique          0          0\n",
              "top           NaN        NaN\n",
              "freq          NaN        NaN"
            ]
          },
          "metadata": {
            "tags": []
          },
          "execution_count": 46
        }
      ]
    },
    {
      "cell_type": "code",
      "metadata": {
        "id": "na8lp3VLAdl0",
        "colab_type": "code",
        "colab": {}
      },
      "source": [
        "dfOutput['image_name']=tst_data['image_names']\n",
        "dfOutput['prediction']=prediction\n",
        "dfOutput.head()\n",
        "with open(output_path+'/manvswoman_onehiddenlayer_cnn1.csv', 'w') as f:\n",
        "  dfOutput.to_csv(f)"
      ],
      "execution_count": 47,
      "outputs": []
    },
    {
      "cell_type": "markdown",
      "metadata": {
        "id": "Q85wRfpZO0ni",
        "colab_type": "text"
      },
      "source": [
        "\n",
        "\n",
        "#### increase number of convolutional layers\n",
        "#### increase number of pooling layers\n",
        "#### increase number of convolutional filters\n",
        "#### change size of conv\n",
        "#### change size of pooling\n",
        "#### change padding technique\n",
        "#### change stride"
      ]
    },
    {
      "cell_type": "code",
      "metadata": {
        "id": "GFGc4kaPOtoo",
        "colab_type": "code",
        "colab": {
          "base_uri": "https://localhost:8080/",
          "height": 425
        },
        "outputId": "b534f244-29e0-4c40-dce3-85484323ddb8"
      },
      "source": [
        "# Increase the number of layers\n",
        "model = Sequential()\n",
        "    \n",
        "model.add(InputLayer(input_shape=(112, 112, 3)))\n",
        "\n",
        "model.add(Conv2D(25, (5, 5), activation='relu', strides=(1, 1), padding='valid'))\n",
        "model.add(Conv2D(50, (5, 5), activation='relu', strides=(1, 1), padding='valid'))\n",
        "model.add(MaxPool2D(pool_size=(4, 4), padding='valid'))\n",
        "\n",
        "model.add(Conv2D(100, (5, 5), activation='relu', strides=(1, 1), padding='valid'))\n",
        "model.add(MaxPool2D(pool_size=(4, 4), padding='valid'))\n",
        "\n",
        "model.add(Flatten())\n",
        "\n",
        "model.add(Dense(units=100, activation='sigmoid'))\n",
        "model.add(Dense(units=1, activation='sigmoid'))\n",
        "\n",
        "model.compile(loss='binary_crossentropy', optimizer=\"adam\", metrics=['accuracy'])\n",
        "model.summary()"
      ],
      "execution_count": 48,
      "outputs": [
        {
          "output_type": "stream",
          "text": [
            "Model: \"sequential_3\"\n",
            "_________________________________________________________________\n",
            "Layer (type)                 Output Shape              Param #   \n",
            "=================================================================\n",
            "conv2d_5 (Conv2D)            (None, 108, 108, 25)      1900      \n",
            "_________________________________________________________________\n",
            "conv2d_6 (Conv2D)            (None, 104, 104, 50)      31300     \n",
            "_________________________________________________________________\n",
            "max_pooling2d_1 (MaxPooling2 (None, 26, 26, 50)        0         \n",
            "_________________________________________________________________\n",
            "conv2d_7 (Conv2D)            (None, 22, 22, 100)       125100    \n",
            "_________________________________________________________________\n",
            "max_pooling2d_2 (MaxPooling2 (None, 5, 5, 100)         0         \n",
            "_________________________________________________________________\n",
            "flatten_3 (Flatten)          (None, 2500)              0         \n",
            "_________________________________________________________________\n",
            "dense_5 (Dense)              (None, 100)               250100    \n",
            "_________________________________________________________________\n",
            "dense_6 (Dense)              (None, 1)                 101       \n",
            "=================================================================\n",
            "Total params: 408,501\n",
            "Trainable params: 408,501\n",
            "Non-trainable params: 0\n",
            "_________________________________________________________________\n"
          ],
          "name": "stdout"
        }
      ]
    },
    {
      "cell_type": "code",
      "metadata": {
        "id": "pylCIoJTQESU",
        "colab_type": "code",
        "colab": {
          "base_uri": "https://localhost:8080/",
          "height": 408
        },
        "outputId": "3851705c-87f2-484e-8e79-78ab31d05da5"
      },
      "source": [
        "%%time\n",
        "history = model.fit(X_train,y_train, epochs=10,  validation_data=(X_valid,y_valid))"
      ],
      "execution_count": 49,
      "outputs": [
        {
          "output_type": "stream",
          "text": [
            "Train on 8537 samples, validate on 3659 samples\n",
            "Epoch 1/10\n",
            "8537/8537 [==============================] - 879s 103ms/step - loss: 0.5800 - accuracy: 0.6625 - val_loss: 0.4323 - val_accuracy: 0.7967\n",
            "Epoch 2/10\n",
            "8537/8537 [==============================] - 835s 98ms/step - loss: 0.4016 - accuracy: 0.8182 - val_loss: 0.3494 - val_accuracy: 0.8453\n",
            "Epoch 3/10\n",
            "8537/8537 [==============================] - 845s 99ms/step - loss: 0.3370 - accuracy: 0.8517 - val_loss: 0.3043 - val_accuracy: 0.8675\n",
            "Epoch 4/10\n",
            "8537/8537 [==============================] - 841s 98ms/step - loss: 0.2904 - accuracy: 0.8714 - val_loss: 0.2882 - val_accuracy: 0.8781\n",
            "Epoch 5/10\n",
            "8537/8537 [==============================] - 876s 103ms/step - loss: 0.2578 - accuracy: 0.8907 - val_loss: 0.2722 - val_accuracy: 0.8858\n",
            "Epoch 6/10\n",
            "8537/8537 [==============================] - 890s 104ms/step - loss: 0.2314 - accuracy: 0.9049 - val_loss: 0.2540 - val_accuracy: 0.8964\n",
            "Epoch 7/10\n",
            "8537/8537 [==============================] - 889s 104ms/step - loss: 0.2073 - accuracy: 0.9141 - val_loss: 0.2518 - val_accuracy: 0.8942\n",
            "Epoch 8/10\n",
            "8537/8537 [==============================] - 889s 104ms/step - loss: 0.1832 - accuracy: 0.9242 - val_loss: 0.2456 - val_accuracy: 0.8956\n",
            "Epoch 9/10\n",
            "8537/8537 [==============================] - 888s 104ms/step - loss: 0.1588 - accuracy: 0.9362 - val_loss: 0.2423 - val_accuracy: 0.8959\n",
            "Epoch 10/10\n",
            "8537/8537 [==============================] - 886s 104ms/step - loss: 0.1398 - accuracy: 0.9472 - val_loss: 0.2243 - val_accuracy: 0.9074\n",
            "CPU times: user 4h 39min 42s, sys: 1min 28s, total: 4h 41min 11s\n",
            "Wall time: 2h 25min 19s\n"
          ],
          "name": "stdout"
        }
      ]
    },
    {
      "cell_type": "code",
      "metadata": {
        "id": "UhZp7ReG3IZV",
        "colab_type": "code",
        "colab": {}
      },
      "source": [
        "from keras.layers import GlobalMaxPool2D"
      ],
      "execution_count": 52,
      "outputs": []
    },
    {
      "cell_type": "code",
      "metadata": {
        "id": "EUm86Oe2y5v8",
        "colab_type": "code",
        "colab": {
          "base_uri": "https://localhost:8080/",
          "height": 425
        },
        "outputId": "ee5eb69a-673b-47f6-eec2-13ee039cdc2d"
      },
      "source": [
        "# change filter size for convolutional layer and pooling size for pooling layer\n",
        "model = Sequential()\n",
        "    \n",
        "model.add(InputLayer(input_shape=(112, 112, 3)))\n",
        "\n",
        "model.add(Conv2D(125, (5, 5), activation='relu', strides=(1, 1), padding='valid'))\n",
        "model.add(Conv2D(150, (5, 5), activation='relu', strides=(1, 1), padding='valid'))\n",
        "model.add(MaxPool2D(pool_size=(8, 8), padding='valid'))\n",
        "\n",
        "model.add(Conv2D(200, (3, 3), activation='relu', strides=(1, 1), padding='valid'))\n",
        "model.add(Conv2D(225, (3, 3), activation='relu', strides=(1, 1), padding='valid'))\n",
        "\n",
        "model.add(GlobalMaxPool2D())\n",
        "\n",
        "model.add(Dense(units=100, activation='sigmoid'))\n",
        "model.add(Dense(units=1, activation='sigmoid'))\n",
        "\n",
        "model.compile(loss='binary_crossentropy', optimizer=\"sgd\", metrics=['accuracy'])\n",
        "model.summary()"
      ],
      "execution_count": 54,
      "outputs": [
        {
          "output_type": "stream",
          "text": [
            "Model: \"sequential_5\"\n",
            "_________________________________________________________________\n",
            "Layer (type)                 Output Shape              Param #   \n",
            "=================================================================\n",
            "conv2d_12 (Conv2D)           (None, 108, 108, 125)     9500      \n",
            "_________________________________________________________________\n",
            "conv2d_13 (Conv2D)           (None, 104, 104, 150)     468900    \n",
            "_________________________________________________________________\n",
            "max_pooling2d_4 (MaxPooling2 (None, 13, 13, 150)       0         \n",
            "_________________________________________________________________\n",
            "conv2d_14 (Conv2D)           (None, 11, 11, 200)       270200    \n",
            "_________________________________________________________________\n",
            "conv2d_15 (Conv2D)           (None, 9, 9, 225)         405225    \n",
            "_________________________________________________________________\n",
            "global_max_pooling2d_1 (Glob (None, 225)               0         \n",
            "_________________________________________________________________\n",
            "dense_7 (Dense)              (None, 100)               22600     \n",
            "_________________________________________________________________\n",
            "dense_8 (Dense)              (None, 1)                 101       \n",
            "=================================================================\n",
            "Total params: 1,176,526\n",
            "Trainable params: 1,176,526\n",
            "Non-trainable params: 0\n",
            "_________________________________________________________________\n"
          ],
          "name": "stdout"
        }
      ]
    },
    {
      "cell_type": "code",
      "metadata": {
        "id": "t3RDkVSY3u77",
        "colab_type": "code",
        "colab": {}
      },
      "source": [
        "%%time\n",
        "history = model.fit(X_train,y_train, epochs=10,  validation_data=(X_valid,y_valid))"
      ],
      "execution_count": null,
      "outputs": []
    },
    {
      "cell_type": "code",
      "metadata": {
        "id": "sWWupj1ISWmK",
        "colab_type": "code",
        "colab": {}
      },
      "source": [
        ""
      ],
      "execution_count": null,
      "outputs": []
    },
    {
      "cell_type": "markdown",
      "metadata": {
        "id": "gnqDtp8HCXwq",
        "colab_type": "text"
      },
      "source": [
        "#Hyper Parameter Tuning\n",
        "###### change activation function of hidden layer\n",
        "###### increase hidden neurons\n",
        "###### increase hidden layers\n",
        "###### increase number of epochs\n",
        "###### change optimizer"
      ]
    },
    {
      "cell_type": "markdown",
      "metadata": {
        "id": "qjCa291rDSFJ",
        "colab_type": "text"
      },
      "source": [
        "#### Change the activation function"
      ]
    },
    {
      "cell_type": "code",
      "metadata": {
        "id": "_ZQnon3cCddJ",
        "colab_type": "code",
        "colab": {
          "base_uri": "https://localhost:8080/",
          "height": 221
        },
        "outputId": "0f99cf9a-cc15-4bb2-8c9d-f09daaf860b3"
      },
      "source": [
        "model = Sequential()\n",
        "model.add(Dense(100, input_dim=112*112*3, activation='tanh'))\n",
        "model.add(Dense(units=1, activation='sigmoid'))\n",
        "\n",
        "model.compile(loss='binary_crossentropy', optimizer=\"sgd\", metrics=['accuracy'])\n",
        "model.summary()"
      ],
      "execution_count": null,
      "outputs": [
        {
          "output_type": "stream",
          "text": [
            "Model: \"sequential_2\"\n",
            "_________________________________________________________________\n",
            "Layer (type)                 Output Shape              Param #   \n",
            "=================================================================\n",
            "dense_3 (Dense)              (None, 100)               3763300   \n",
            "_________________________________________________________________\n",
            "dense_4 (Dense)              (None, 1)                 101       \n",
            "=================================================================\n",
            "Total params: 3,763,401\n",
            "Trainable params: 3,763,401\n",
            "Non-trainable params: 0\n",
            "_________________________________________________________________\n"
          ],
          "name": "stdout"
        }
      ]
    },
    {
      "cell_type": "code",
      "metadata": {
        "id": "aqINlK2ZEXqY",
        "colab_type": "code",
        "colab": {
          "base_uri": "https://localhost:8080/",
          "height": 544
        },
        "outputId": "9090a219-7ae5-4634-bc0e-5491e0f23ae6"
      },
      "source": [
        "history = model.fit(X_train,y_train, epochs=15, batch_size=32, verbose=2, validation_data=(X_valid,y_valid))"
      ],
      "execution_count": null,
      "outputs": [
        {
          "output_type": "stream",
          "text": [
            "Train on 8537 samples, validate on 3659 samples\n",
            "Epoch 1/15\n",
            " - 10s - loss: 0.6348 - accuracy: 0.6616 - val_loss: 0.5338 - val_accuracy: 0.7327\n",
            "Epoch 2/15\n",
            " - 10s - loss: 0.5518 - accuracy: 0.7272 - val_loss: 0.5715 - val_accuracy: 0.6879\n",
            "Epoch 3/15\n",
            " - 10s - loss: 0.5196 - accuracy: 0.7444 - val_loss: 0.4887 - val_accuracy: 0.7633\n",
            "Epoch 4/15\n",
            " - 10s - loss: 0.5019 - accuracy: 0.7569 - val_loss: 0.5445 - val_accuracy: 0.7130\n",
            "Epoch 5/15\n",
            " - 10s - loss: 0.4822 - accuracy: 0.7667 - val_loss: 0.5367 - val_accuracy: 0.7365\n",
            "Epoch 6/15\n",
            " - 10s - loss: 0.4702 - accuracy: 0.7697 - val_loss: 0.4676 - val_accuracy: 0.7789\n",
            "Epoch 7/15\n",
            " - 12s - loss: 0.4596 - accuracy: 0.7805 - val_loss: 0.4576 - val_accuracy: 0.7857\n",
            "Epoch 8/15\n",
            " - 10s - loss: 0.4429 - accuracy: 0.7937 - val_loss: 0.4339 - val_accuracy: 0.7983\n",
            "Epoch 9/15\n",
            " - 10s - loss: 0.4410 - accuracy: 0.7929 - val_loss: 0.4465 - val_accuracy: 0.7901\n",
            "Epoch 10/15\n",
            " - 10s - loss: 0.4215 - accuracy: 0.8082 - val_loss: 0.4256 - val_accuracy: 0.8043\n",
            "Epoch 11/15\n",
            " - 10s - loss: 0.4058 - accuracy: 0.8155 - val_loss: 0.4251 - val_accuracy: 0.8046\n",
            "Epoch 12/15\n",
            " - 10s - loss: 0.4155 - accuracy: 0.8120 - val_loss: 0.4185 - val_accuracy: 0.8106\n",
            "Epoch 13/15\n",
            " - 10s - loss: 0.3972 - accuracy: 0.8228 - val_loss: 0.4173 - val_accuracy: 0.8125\n",
            "Epoch 14/15\n",
            " - 10s - loss: 0.3870 - accuracy: 0.8290 - val_loss: 0.3982 - val_accuracy: 0.8229\n",
            "Epoch 15/15\n",
            " - 10s - loss: 0.3789 - accuracy: 0.8278 - val_loss: 0.5113 - val_accuracy: 0.7494\n"
          ],
          "name": "stdout"
        }
      ]
    },
    {
      "cell_type": "code",
      "metadata": {
        "id": "S6NWmrYgEYbb",
        "colab_type": "code",
        "colab": {
          "base_uri": "https://localhost:8080/",
          "height": 295
        },
        "outputId": "66f2a059-32e7-48fd-ec5d-830e4a970a01"
      },
      "source": [
        "plotLosses(history)"
      ],
      "execution_count": null,
      "outputs": [
        {
          "output_type": "display_data",
          "data": {
            "image/png": "[encoded data removed]",
            "text/plain": [
              "<Figure size 432x288 with 1 Axes>"
            ]
          },
          "metadata": {
            "tags": [],
            "needs_background": "light"
          }
        }
      ]
    },
    {
      "cell_type": "markdown",
      "metadata": {
        "id": "hr3rDelHFPjP",
        "colab_type": "text"
      },
      "source": [
        "######Increase hidden neurons"
      ]
    },
    {
      "cell_type": "code",
      "metadata": {
        "id": "Cuy3VUucFVHl",
        "colab_type": "code",
        "colab": {
          "base_uri": "https://localhost:8080/",
          "height": 221
        },
        "outputId": "adab594f-723a-4a98-81dc-5b46bb27ea70"
      },
      "source": [
        "model = Sequential()\n",
        "model.add(Dense(1000, input_dim=112*112*3, activation='sigmoid'))\n",
        "model.add(Dense(units=1, activation='sigmoid'))\n",
        "\n",
        "model.compile(loss='binary_crossentropy', optimizer=\"sgd\", metrics=['accuracy'])\n",
        "model.summary()"
      ],
      "execution_count": null,
      "outputs": [
        {
          "output_type": "stream",
          "text": [
            "Model: \"sequential_3\"\n",
            "_________________________________________________________________\n",
            "Layer (type)                 Output Shape              Param #   \n",
            "=================================================================\n",
            "dense_5 (Dense)              (None, 1000)              37633000  \n",
            "_________________________________________________________________\n",
            "dense_6 (Dense)              (None, 1)                 1001      \n",
            "=================================================================\n",
            "Total params: 37,634,001\n",
            "Trainable params: 37,634,001\n",
            "Non-trainable params: 0\n",
            "_________________________________________________________________\n"
          ],
          "name": "stdout"
        }
      ]
    },
    {
      "cell_type": "code",
      "metadata": {
        "id": "5Mat2aTtFZUy",
        "colab_type": "code",
        "colab": {
          "base_uri": "https://localhost:8080/",
          "height": 544
        },
        "outputId": "ec7f647b-7291-4cd7-e9b6-42f84852b760"
      },
      "source": [
        "history = model.fit(X_train,y_train, epochs=15, batch_size=32, verbose=2, validation_data=(X_valid,y_valid))"
      ],
      "execution_count": null,
      "outputs": [
        {
          "output_type": "stream",
          "text": [
            "Train on 8537 samples, validate on 3659 samples\n",
            "Epoch 1/15\n",
            " - 68s - loss: 0.6360 - accuracy: 0.6508 - val_loss: 0.5621 - val_accuracy: 0.6988\n",
            "Epoch 2/15\n",
            " - 68s - loss: 0.5536 - accuracy: 0.7177 - val_loss: 0.5517 - val_accuracy: 0.7344\n",
            "Epoch 3/15\n",
            " - 68s - loss: 0.5342 - accuracy: 0.7306 - val_loss: 0.5231 - val_accuracy: 0.7502\n",
            "Epoch 4/15\n",
            " - 68s - loss: 0.5171 - accuracy: 0.7450 - val_loss: 0.5565 - val_accuracy: 0.7349\n",
            "Epoch 5/15\n",
            " - 68s - loss: 0.5079 - accuracy: 0.7558 - val_loss: 0.5190 - val_accuracy: 0.7267\n",
            "Epoch 6/15\n",
            " - 68s - loss: 0.4994 - accuracy: 0.7581 - val_loss: 0.7118 - val_accuracy: 0.6056\n",
            "Epoch 7/15\n",
            " - 71s - loss: 0.4911 - accuracy: 0.7665 - val_loss: 0.4813 - val_accuracy: 0.7702\n",
            "Epoch 8/15\n",
            " - 68s - loss: 0.4889 - accuracy: 0.7694 - val_loss: 0.4820 - val_accuracy: 0.7647\n",
            "Epoch 9/15\n",
            " - 68s - loss: 0.4810 - accuracy: 0.7737 - val_loss: 0.4726 - val_accuracy: 0.7786\n",
            "Epoch 10/15\n",
            " - 68s - loss: 0.4758 - accuracy: 0.7807 - val_loss: 0.4682 - val_accuracy: 0.7879\n",
            "Epoch 11/15\n",
            " - 68s - loss: 0.4737 - accuracy: 0.7772 - val_loss: 0.4741 - val_accuracy: 0.7726\n",
            "Epoch 12/15\n",
            " - 68s - loss: 0.4801 - accuracy: 0.7729 - val_loss: 0.4762 - val_accuracy: 0.7784\n",
            "Epoch 13/15\n",
            " - 68s - loss: 0.4714 - accuracy: 0.7834 - val_loss: 0.4633 - val_accuracy: 0.7860\n",
            "Epoch 14/15\n",
            " - 68s - loss: 0.4633 - accuracy: 0.7855 - val_loss: 0.4624 - val_accuracy: 0.7846\n",
            "Epoch 15/15\n",
            " - 68s - loss: 0.4629 - accuracy: 0.7897 - val_loss: 0.4593 - val_accuracy: 0.7890\n"
          ],
          "name": "stdout"
        }
      ]
    },
    {
      "cell_type": "code",
      "metadata": {
        "id": "ziXpQJAMFdE-",
        "colab_type": "code",
        "colab": {
          "base_uri": "https://localhost:8080/",
          "height": 295
        },
        "outputId": "17104d1d-bbcf-44e8-b734-9bd598980105"
      },
      "source": [
        "plotLosses(history)"
      ],
      "execution_count": null,
      "outputs": [
        {
          "output_type": "display_data",
          "data": {
            "image/png": "[encoded data removed]",
            "text/plain": [
              "<Figure size 432x288 with 1 Axes>"
            ]
          },
          "metadata": {
            "tags": [],
            "needs_background": "light"
          }
        }
      ]
    },
    {
      "cell_type": "markdown",
      "metadata": {
        "id": "vH5a3S2jJ8ec",
        "colab_type": "text"
      },
      "source": [
        "#### Increase the number of layers"
      ]
    },
    {
      "cell_type": "code",
      "metadata": {
        "id": "wsw2NOwsJnEX",
        "colab_type": "code",
        "colab": {
          "base_uri": "https://localhost:8080/",
          "height": 255
        },
        "outputId": "9487f5a9-e7b6-4df4-8f3e-7fdba6196b9c"
      },
      "source": [
        "model = Sequential()\n",
        "model.add(Dense(100, input_dim=112*112*3, activation='sigmoid'))\n",
        "model.add(Dense(100, activation='sigmoid'))\n",
        "model.add(Dense(units=1, activation='sigmoid'))\n",
        "\n",
        "model.compile(loss='binary_crossentropy', optimizer=\"sgd\", metrics=['accuracy'])\n",
        "model.summary()"
      ],
      "execution_count": null,
      "outputs": [
        {
          "output_type": "stream",
          "text": [
            "Model: \"sequential_4\"\n",
            "_________________________________________________________________\n",
            "Layer (type)                 Output Shape              Param #   \n",
            "=================================================================\n",
            "dense_7 (Dense)              (None, 100)               3763300   \n",
            "_________________________________________________________________\n",
            "dense_8 (Dense)              (None, 100)               10100     \n",
            "_________________________________________________________________\n",
            "dense_9 (Dense)              (None, 1)                 101       \n",
            "=================================================================\n",
            "Total params: 3,773,501\n",
            "Trainable params: 3,773,501\n",
            "Non-trainable params: 0\n",
            "_________________________________________________________________\n"
          ],
          "name": "stdout"
        }
      ]
    },
    {
      "cell_type": "code",
      "metadata": {
        "id": "79jN2MGqKTNJ",
        "colab_type": "code",
        "colab": {
          "base_uri": "https://localhost:8080/",
          "height": 544
        },
        "outputId": "bf253fd9-e27a-4af8-e073-bb82301c6816"
      },
      "source": [
        "history = model.fit(X_train,y_train, epochs=15, batch_size=32, verbose=2, validation_data=(X_valid,y_valid))"
      ],
      "execution_count": null,
      "outputs": [
        {
          "output_type": "stream",
          "text": [
            "Train on 8537 samples, validate on 3659 samples\n",
            "Epoch 1/15\n",
            " - 9s - loss: 0.6755 - accuracy: 0.6154 - val_loss: 0.6633 - val_accuracy: 0.6636\n",
            "Epoch 2/15\n",
            " - 9s - loss: 0.6440 - accuracy: 0.6933 - val_loss: 0.6359 - val_accuracy: 0.6936\n",
            "Epoch 3/15\n",
            " - 9s - loss: 0.6134 - accuracy: 0.7091 - val_loss: 0.6010 - val_accuracy: 0.7199\n",
            "Epoch 4/15\n",
            " - 9s - loss: 0.5840 - accuracy: 0.7179 - val_loss: 0.5754 - val_accuracy: 0.7281\n",
            "Epoch 5/15\n",
            " - 10s - loss: 0.5602 - accuracy: 0.7321 - val_loss: 0.5610 - val_accuracy: 0.7158\n",
            "Epoch 6/15\n",
            " - 10s - loss: 0.5421 - accuracy: 0.7393 - val_loss: 0.5371 - val_accuracy: 0.7447\n",
            "Epoch 7/15\n",
            " - 10s - loss: 0.5265 - accuracy: 0.7494 - val_loss: 0.5244 - val_accuracy: 0.7439\n",
            "Epoch 8/15\n",
            " - 10s - loss: 0.5158 - accuracy: 0.7518 - val_loss: 0.5376 - val_accuracy: 0.7415\n",
            "Epoch 9/15\n",
            " - 10s - loss: 0.5063 - accuracy: 0.7586 - val_loss: 0.5135 - val_accuracy: 0.7543\n",
            "Epoch 10/15\n",
            " - 10s - loss: 0.4983 - accuracy: 0.7608 - val_loss: 0.4992 - val_accuracy: 0.7606\n",
            "Epoch 11/15\n",
            " - 10s - loss: 0.4949 - accuracy: 0.7674 - val_loss: 0.5003 - val_accuracy: 0.7603\n",
            "Epoch 12/15\n",
            " - 10s - loss: 0.4882 - accuracy: 0.7680 - val_loss: 0.4884 - val_accuracy: 0.7661\n",
            "Epoch 13/15\n",
            " - 10s - loss: 0.4836 - accuracy: 0.7715 - val_loss: 0.4873 - val_accuracy: 0.7625\n",
            "Epoch 14/15\n",
            " - 10s - loss: 0.4796 - accuracy: 0.7746 - val_loss: 0.5002 - val_accuracy: 0.7617\n",
            "Epoch 15/15\n",
            " - 10s - loss: 0.4766 - accuracy: 0.7753 - val_loss: 0.4821 - val_accuracy: 0.7751\n"
          ],
          "name": "stdout"
        }
      ]
    },
    {
      "cell_type": "code",
      "metadata": {
        "id": "y5AfXjAMKWnt",
        "colab_type": "code",
        "colab": {
          "base_uri": "https://localhost:8080/",
          "height": 295
        },
        "outputId": "59dea0cf-f40b-4a2a-f0a0-f96b86cedf15"
      },
      "source": [
        "plotLosses(history)"
      ],
      "execution_count": null,
      "outputs": [
        {
          "output_type": "display_data",
          "data": {
            "image/png": "[encoded data removed]",
            "text/plain": [
              "<Figure size 432x288 with 1 Axes>"
            ]
          },
          "metadata": {
            "tags": [],
            "needs_background": "light"
          }
        }
      ]
    },
    {
      "cell_type": "markdown",
      "metadata": {
        "id": "q1BPE3sUJdSz",
        "colab_type": "text"
      },
      "source": [
        "Increase the epoch, change the optimizer and also add one more layer"
      ]
    },
    {
      "cell_type": "code",
      "metadata": {
        "id": "ivWYMEofJyq7",
        "colab_type": "code",
        "colab": {}
      },
      "source": [
        "adam = Adam(lr=1e-5)"
      ],
      "execution_count": null,
      "outputs": []
    },
    {
      "cell_type": "code",
      "metadata": {
        "id": "jY_nSLJlJlcX",
        "colab_type": "code",
        "colab": {
          "base_uri": "https://localhost:8080/",
          "height": 289
        },
        "outputId": "7f4d5a55-eb81-4633-b25e-b80564ce4abc"
      },
      "source": [
        "model = Sequential()\n",
        "model.add(Dense(100, input_dim=112*112*3, activation='sigmoid'))\n",
        "model.add(Dense(100, activation='sigmoid'))\n",
        "model.add(Dense(100, activation='sigmoid'))\n",
        "model.add(Dense(units=1, activation='sigmoid'))\n",
        "\n",
        "model.compile(loss='binary_crossentropy', optimizer=adam, metrics=['accuracy'])\n",
        "model.summary()"
      ],
      "execution_count": null,
      "outputs": [
        {
          "output_type": "stream",
          "text": [
            "Model: \"sequential_5\"\n",
            "_________________________________________________________________\n",
            "Layer (type)                 Output Shape              Param #   \n",
            "=================================================================\n",
            "dense_10 (Dense)             (None, 100)               3763300   \n",
            "_________________________________________________________________\n",
            "dense_11 (Dense)             (None, 100)               10100     \n",
            "_________________________________________________________________\n",
            "dense_12 (Dense)             (None, 100)               10100     \n",
            "_________________________________________________________________\n",
            "dense_13 (Dense)             (None, 1)                 101       \n",
            "=================================================================\n",
            "Total params: 3,783,601\n",
            "Trainable params: 3,783,601\n",
            "Non-trainable params: 0\n",
            "_________________________________________________________________\n"
          ],
          "name": "stdout"
        }
      ]
    },
    {
      "cell_type": "code",
      "metadata": {
        "id": "WnQR72MKKQ1j",
        "colab_type": "code",
        "colab": {
          "base_uri": "https://localhost:8080/",
          "height": 1000
        },
        "outputId": "8336aad8-65ef-4450-a07c-54eedc2c627a"
      },
      "source": [
        "history = model.fit(X_train,y_train, epochs=100, batch_size=32, verbose=2, validation_data=(X_valid,y_valid))"
      ],
      "execution_count": null,
      "outputs": [
        {
          "output_type": "stream",
          "text": [
            "Train on 8537 samples, validate on 3659 samples\n",
            "Epoch 1/100\n",
            " - 15s - loss: 0.8033 - accuracy: 0.4978 - val_loss: 0.7574 - val_accuracy: 0.4843\n",
            "Epoch 2/100\n",
            " - 15s - loss: 0.7230 - accuracy: 0.4978 - val_loss: 0.7096 - val_accuracy: 0.4843\n",
            "Epoch 3/100\n",
            " - 15s - loss: 0.6990 - accuracy: 0.4978 - val_loss: 0.6965 - val_accuracy: 0.4843\n",
            "Epoch 4/100\n",
            " - 15s - loss: 0.6938 - accuracy: 0.4978 - val_loss: 0.6932 - val_accuracy: 0.4843\n",
            "Epoch 5/100\n",
            " - 15s - loss: 0.6926 - accuracy: 0.5278 - val_loss: 0.6921 - val_accuracy: 0.5138\n",
            "Epoch 6/100\n",
            " - 15s - loss: 0.6920 - accuracy: 0.5177 - val_loss: 0.6914 - val_accuracy: 0.6125\n",
            "Epoch 7/100\n",
            " - 15s - loss: 0.6912 - accuracy: 0.5650 - val_loss: 0.6906 - val_accuracy: 0.6453\n",
            "Epoch 8/100\n",
            " - 15s - loss: 0.6901 - accuracy: 0.6897 - val_loss: 0.6891 - val_accuracy: 0.5731\n",
            "Epoch 9/100\n",
            " - 15s - loss: 0.6882 - accuracy: 0.6454 - val_loss: 0.6870 - val_accuracy: 0.6586\n",
            "Epoch 10/100\n",
            " - 15s - loss: 0.6862 - accuracy: 0.7026 - val_loss: 0.6852 - val_accuracy: 0.6953\n",
            "Epoch 11/100\n",
            " - 17s - loss: 0.6841 - accuracy: 0.7279 - val_loss: 0.6828 - val_accuracy: 0.7253\n",
            "Epoch 12/100\n",
            " - 15s - loss: 0.6818 - accuracy: 0.7257 - val_loss: 0.6806 - val_accuracy: 0.7210\n",
            "Epoch 13/100\n",
            " - 15s - loss: 0.6791 - accuracy: 0.7289 - val_loss: 0.6776 - val_accuracy: 0.7371\n",
            "Epoch 14/100\n",
            " - 15s - loss: 0.6755 - accuracy: 0.7374 - val_loss: 0.6738 - val_accuracy: 0.7426\n",
            "Epoch 15/100\n",
            " - 15s - loss: 0.6708 - accuracy: 0.7414 - val_loss: 0.6693 - val_accuracy: 0.7420\n",
            "Epoch 16/100\n",
            " - 15s - loss: 0.6659 - accuracy: 0.7442 - val_loss: 0.6637 - val_accuracy: 0.7434\n",
            "Epoch 17/100\n",
            " - 15s - loss: 0.6602 - accuracy: 0.7482 - val_loss: 0.6574 - val_accuracy: 0.7458\n",
            "Epoch 18/100\n",
            " - 15s - loss: 0.6531 - accuracy: 0.7494 - val_loss: 0.6503 - val_accuracy: 0.7516\n",
            "Epoch 19/100\n",
            " - 15s - loss: 0.6452 - accuracy: 0.7528 - val_loss: 0.6415 - val_accuracy: 0.7505\n",
            "Epoch 20/100\n",
            " - 15s - loss: 0.6363 - accuracy: 0.7553 - val_loss: 0.6326 - val_accuracy: 0.7426\n",
            "Epoch 21/100\n",
            " - 15s - loss: 0.6270 - accuracy: 0.7552 - val_loss: 0.6235 - val_accuracy: 0.7488\n",
            "Epoch 22/100\n",
            " - 15s - loss: 0.6175 - accuracy: 0.7605 - val_loss: 0.6142 - val_accuracy: 0.7464\n",
            "Epoch 23/100\n",
            " - 15s - loss: 0.6073 - accuracy: 0.7612 - val_loss: 0.6046 - val_accuracy: 0.7568\n",
            "Epoch 24/100\n",
            " - 15s - loss: 0.5971 - accuracy: 0.7571 - val_loss: 0.5941 - val_accuracy: 0.7480\n",
            "Epoch 25/100\n",
            " - 15s - loss: 0.5857 - accuracy: 0.7607 - val_loss: 0.5848 - val_accuracy: 0.7600\n",
            "Epoch 26/100\n",
            " - 15s - loss: 0.5750 - accuracy: 0.7642 - val_loss: 0.5733 - val_accuracy: 0.7480\n",
            "Epoch 27/100\n",
            " - 15s - loss: 0.5633 - accuracy: 0.7658 - val_loss: 0.5622 - val_accuracy: 0.7535\n",
            "Epoch 28/100\n",
            " - 15s - loss: 0.5526 - accuracy: 0.7665 - val_loss: 0.5522 - val_accuracy: 0.7540\n",
            "Epoch 29/100\n",
            " - 15s - loss: 0.5423 - accuracy: 0.7697 - val_loss: 0.5420 - val_accuracy: 0.7631\n",
            "Epoch 30/100\n",
            " - 15s - loss: 0.5331 - accuracy: 0.7675 - val_loss: 0.5341 - val_accuracy: 0.7551\n",
            "Epoch 31/100\n",
            " - 15s - loss: 0.5242 - accuracy: 0.7736 - val_loss: 0.5260 - val_accuracy: 0.7644\n",
            "Epoch 32/100\n",
            " - 15s - loss: 0.5165 - accuracy: 0.7745 - val_loss: 0.5213 - val_accuracy: 0.7685\n",
            "Epoch 33/100\n",
            " - 17s - loss: 0.5104 - accuracy: 0.7760 - val_loss: 0.5130 - val_accuracy: 0.7661\n",
            "Epoch 34/100\n",
            " - 16s - loss: 0.5034 - accuracy: 0.7797 - val_loss: 0.5102 - val_accuracy: 0.7704\n",
            "Epoch 35/100\n",
            " - 16s - loss: 0.4996 - accuracy: 0.7758 - val_loss: 0.5028 - val_accuracy: 0.7702\n",
            "Epoch 36/100\n",
            " - 16s - loss: 0.4932 - accuracy: 0.7800 - val_loss: 0.4986 - val_accuracy: 0.7710\n",
            "Epoch 37/100\n",
            " - 16s - loss: 0.4889 - accuracy: 0.7813 - val_loss: 0.4947 - val_accuracy: 0.7704\n",
            "Epoch 38/100\n",
            " - 16s - loss: 0.4847 - accuracy: 0.7827 - val_loss: 0.4916 - val_accuracy: 0.7745\n",
            "Epoch 39/100\n",
            " - 16s - loss: 0.4801 - accuracy: 0.7860 - val_loss: 0.4874 - val_accuracy: 0.7786\n",
            "Epoch 40/100\n",
            " - 16s - loss: 0.4766 - accuracy: 0.7856 - val_loss: 0.4845 - val_accuracy: 0.7789\n",
            "Epoch 41/100\n",
            " - 16s - loss: 0.4731 - accuracy: 0.7874 - val_loss: 0.4813 - val_accuracy: 0.7764\n",
            "Epoch 42/100\n",
            " - 16s - loss: 0.4686 - accuracy: 0.7904 - val_loss: 0.4781 - val_accuracy: 0.7803\n",
            "Epoch 43/100\n",
            " - 16s - loss: 0.4654 - accuracy: 0.7910 - val_loss: 0.4756 - val_accuracy: 0.7838\n",
            "Epoch 44/100\n",
            " - 18s - loss: 0.4621 - accuracy: 0.7954 - val_loss: 0.4727 - val_accuracy: 0.7857\n",
            "Epoch 45/100\n",
            " - 16s - loss: 0.4587 - accuracy: 0.7938 - val_loss: 0.4701 - val_accuracy: 0.7844\n",
            "Epoch 46/100\n",
            " - 16s - loss: 0.4551 - accuracy: 0.7984 - val_loss: 0.4774 - val_accuracy: 0.7816\n",
            "Epoch 47/100\n",
            " - 17s - loss: 0.4525 - accuracy: 0.7965 - val_loss: 0.4686 - val_accuracy: 0.7846\n",
            "Epoch 48/100\n",
            " - 16s - loss: 0.4497 - accuracy: 0.7965 - val_loss: 0.4637 - val_accuracy: 0.7852\n",
            "Epoch 49/100\n",
            " - 16s - loss: 0.4467 - accuracy: 0.8006 - val_loss: 0.4614 - val_accuracy: 0.7909\n",
            "Epoch 50/100\n",
            " - 16s - loss: 0.4438 - accuracy: 0.8018 - val_loss: 0.4588 - val_accuracy: 0.7920\n",
            "Epoch 51/100\n",
            " - 16s - loss: 0.4420 - accuracy: 0.8020 - val_loss: 0.4608 - val_accuracy: 0.7857\n",
            "Epoch 52/100\n",
            " - 16s - loss: 0.4393 - accuracy: 0.8063 - val_loss: 0.4545 - val_accuracy: 0.7942\n",
            "Epoch 53/100\n",
            " - 16s - loss: 0.4350 - accuracy: 0.8044 - val_loss: 0.4556 - val_accuracy: 0.7939\n",
            "Epoch 54/100\n",
            " - 16s - loss: 0.4337 - accuracy: 0.8057 - val_loss: 0.4510 - val_accuracy: 0.7961\n",
            "Epoch 55/100\n",
            " - 16s - loss: 0.4309 - accuracy: 0.8084 - val_loss: 0.4498 - val_accuracy: 0.7956\n",
            "Epoch 56/100\n",
            " - 16s - loss: 0.4280 - accuracy: 0.8100 - val_loss: 0.4521 - val_accuracy: 0.7967\n",
            "Epoch 57/100\n",
            " - 16s - loss: 0.4247 - accuracy: 0.8130 - val_loss: 0.4463 - val_accuracy: 0.7967\n",
            "Epoch 58/100\n",
            " - 16s - loss: 0.4235 - accuracy: 0.8140 - val_loss: 0.4455 - val_accuracy: 0.7994\n",
            "Epoch 59/100\n",
            " - 16s - loss: 0.4215 - accuracy: 0.8154 - val_loss: 0.4421 - val_accuracy: 0.8008\n",
            "Epoch 60/100\n",
            " - 16s - loss: 0.4189 - accuracy: 0.8127 - val_loss: 0.4438 - val_accuracy: 0.8010\n",
            "Epoch 61/100\n",
            " - 16s - loss: 0.4161 - accuracy: 0.8159 - val_loss: 0.4398 - val_accuracy: 0.8032\n",
            "Epoch 62/100\n",
            " - 16s - loss: 0.4132 - accuracy: 0.8194 - val_loss: 0.4371 - val_accuracy: 0.8060\n",
            "Epoch 63/100\n",
            " - 16s - loss: 0.4130 - accuracy: 0.8194 - val_loss: 0.4383 - val_accuracy: 0.8038\n",
            "Epoch 64/100\n",
            " - 16s - loss: 0.4110 - accuracy: 0.8187 - val_loss: 0.4424 - val_accuracy: 0.7999\n",
            "Epoch 65/100\n",
            " - 16s - loss: 0.4095 - accuracy: 0.8195 - val_loss: 0.4334 - val_accuracy: 0.8090\n",
            "Epoch 66/100\n",
            " - 17s - loss: 0.4058 - accuracy: 0.8241 - val_loss: 0.4344 - val_accuracy: 0.8092\n",
            "Epoch 67/100\n",
            " - 16s - loss: 0.4035 - accuracy: 0.8231 - val_loss: 0.4320 - val_accuracy: 0.8090\n",
            "Epoch 68/100\n",
            " - 16s - loss: 0.4022 - accuracy: 0.8245 - val_loss: 0.4322 - val_accuracy: 0.8087\n",
            "Epoch 69/100\n",
            " - 16s - loss: 0.3984 - accuracy: 0.8284 - val_loss: 0.4314 - val_accuracy: 0.8068\n",
            "Epoch 70/100\n",
            " - 18s - loss: 0.3969 - accuracy: 0.8262 - val_loss: 0.4280 - val_accuracy: 0.8112\n",
            "Epoch 71/100\n",
            " - 16s - loss: 0.3948 - accuracy: 0.8300 - val_loss: 0.4268 - val_accuracy: 0.8125\n",
            "Epoch 72/100\n",
            " - 16s - loss: 0.3937 - accuracy: 0.8272 - val_loss: 0.4267 - val_accuracy: 0.8120\n",
            "Epoch 73/100\n",
            " - 16s - loss: 0.3909 - accuracy: 0.8328 - val_loss: 0.4252 - val_accuracy: 0.8131\n",
            "Epoch 74/100\n",
            " - 16s - loss: 0.3898 - accuracy: 0.8305 - val_loss: 0.4232 - val_accuracy: 0.8120\n",
            "Epoch 75/100\n",
            " - 16s - loss: 0.3882 - accuracy: 0.8323 - val_loss: 0.4215 - val_accuracy: 0.8133\n",
            "Epoch 76/100\n",
            " - 16s - loss: 0.3855 - accuracy: 0.8362 - val_loss: 0.4215 - val_accuracy: 0.8136\n",
            "Epoch 77/100\n",
            " - 16s - loss: 0.3840 - accuracy: 0.8354 - val_loss: 0.4310 - val_accuracy: 0.8073\n",
            "Epoch 78/100\n",
            " - 16s - loss: 0.3811 - accuracy: 0.8394 - val_loss: 0.4190 - val_accuracy: 0.8163\n",
            "Epoch 79/100\n",
            " - 16s - loss: 0.3788 - accuracy: 0.8395 - val_loss: 0.4207 - val_accuracy: 0.8139\n",
            "Epoch 80/100\n",
            " - 16s - loss: 0.3773 - accuracy: 0.8416 - val_loss: 0.4183 - val_accuracy: 0.8174\n",
            "Epoch 81/100\n",
            " - 16s - loss: 0.3755 - accuracy: 0.8425 - val_loss: 0.4155 - val_accuracy: 0.8191\n",
            "Epoch 82/100\n",
            " - 16s - loss: 0.3745 - accuracy: 0.8443 - val_loss: 0.4136 - val_accuracy: 0.8188\n",
            "Epoch 83/100\n",
            " - 16s - loss: 0.3716 - accuracy: 0.8419 - val_loss: 0.4141 - val_accuracy: 0.8207\n",
            "Epoch 84/100\n",
            " - 17s - loss: 0.3691 - accuracy: 0.8427 - val_loss: 0.4141 - val_accuracy: 0.8196\n",
            "Epoch 85/100\n",
            " - 17s - loss: 0.3685 - accuracy: 0.8441 - val_loss: 0.4116 - val_accuracy: 0.8158\n",
            "Epoch 86/100\n",
            " - 16s - loss: 0.3660 - accuracy: 0.8423 - val_loss: 0.4104 - val_accuracy: 0.8196\n",
            "Epoch 87/100\n",
            " - 16s - loss: 0.3642 - accuracy: 0.8451 - val_loss: 0.4115 - val_accuracy: 0.8215\n",
            "Epoch 88/100\n",
            " - 16s - loss: 0.3625 - accuracy: 0.8485 - val_loss: 0.4085 - val_accuracy: 0.8180\n",
            "Epoch 89/100\n",
            " - 16s - loss: 0.3603 - accuracy: 0.8492 - val_loss: 0.4076 - val_accuracy: 0.8210\n",
            "Epoch 90/100\n",
            " - 16s - loss: 0.3583 - accuracy: 0.8497 - val_loss: 0.4105 - val_accuracy: 0.8199\n",
            "Epoch 91/100\n",
            " - 16s - loss: 0.3573 - accuracy: 0.8509 - val_loss: 0.4076 - val_accuracy: 0.8196\n",
            "Epoch 92/100\n",
            " - 16s - loss: 0.3553 - accuracy: 0.8501 - val_loss: 0.4123 - val_accuracy: 0.8150\n",
            "Epoch 93/100\n",
            " - 16s - loss: 0.3542 - accuracy: 0.8523 - val_loss: 0.4089 - val_accuracy: 0.8199\n",
            "Epoch 94/100\n",
            " - 16s - loss: 0.3522 - accuracy: 0.8507 - val_loss: 0.4073 - val_accuracy: 0.8188\n",
            "Epoch 95/100\n",
            " - 16s - loss: 0.3498 - accuracy: 0.8536 - val_loss: 0.4043 - val_accuracy: 0.8245\n",
            "Epoch 96/100\n",
            " - 16s - loss: 0.3475 - accuracy: 0.8564 - val_loss: 0.4004 - val_accuracy: 0.8248\n",
            "Epoch 97/100\n",
            " - 16s - loss: 0.3451 - accuracy: 0.8587 - val_loss: 0.4011 - val_accuracy: 0.8213\n",
            "Epoch 98/100\n",
            " - 16s - loss: 0.3420 - accuracy: 0.8590 - val_loss: 0.4003 - val_accuracy: 0.8259\n",
            "Epoch 99/100\n",
            " - 16s - loss: 0.3429 - accuracy: 0.8591 - val_loss: 0.3980 - val_accuracy: 0.8248\n",
            "Epoch 100/100\n",
            " - 16s - loss: 0.3417 - accuracy: 0.8581 - val_loss: 0.3973 - val_accuracy: 0.8259\n"
          ],
          "name": "stdout"
        }
      ]
    },
    {
      "cell_type": "code",
      "metadata": {
        "id": "Ve_6O6APKWvg",
        "colab_type": "code",
        "colab": {}
      },
      "source": [
        "plotLosses(history)"
      ],
      "execution_count": null,
      "outputs": []
    }
  ]
}