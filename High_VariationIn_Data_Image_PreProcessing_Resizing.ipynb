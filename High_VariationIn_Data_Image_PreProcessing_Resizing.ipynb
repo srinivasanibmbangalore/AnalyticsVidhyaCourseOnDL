{
  "nbformat": 4,
  "nbformat_minor": 0,
  "metadata": {
    "colab": {
      "name": "High_VariationIn_Data_Image_PreProcessing_Resizing.ipynb",
      "provenance": [],
      "collapsed_sections": [],
      "authorship_tag": "ABX9TyO0UEVRCclrR+nusBFjueUj",
      "include_colab_link": true
    },
    "kernelspec": {
      "name": "python3",
      "display_name": "Python 3"
    },
    "accelerator": "TPU"
  },
  "cells": [
    {
      "cell_type": "markdown",
      "metadata": {
        "id": "view-in-github",
        "colab_type": "text"
      },
      "source": [
        "<a href=\"https://colab.research.google.com/github/srinivasanibmbangalore/AnalyticsVidhyaCourseOnDL/blob/master/High_VariationIn_Data_Image_PreProcessing_Resizing.ipynb\" target=\"_parent\"><img src=\"https://colab.research.google.com/assets/colab-badge.svg\" alt=\"Open In Colab\"/></a>"
      ]
    },
    {
      "cell_type": "code",
      "metadata": {
        "id": "QyuQ53DR2baU",
        "colab_type": "code",
        "colab": {}
      },
      "source": [
        "import argparse\n",
        "import os\n",
        "import shutil\n",
        "import pandas as pd\n",
        "import numpy as np\n",
        "import cv2\n",
        "import matplotlib.pyplot as plt\n",
        "from tqdm import tqdm\n",
        "from psutil import virtual_memory\n",
        "import tensorflow as tf\n",
        "\n",
        "from keras import backend as K \n",
        "from sklearn.model_selection import train_test_split\n",
        "from keras.models import Sequential\n",
        "from keras.layers import Dense, Activation,InputLayer, Conv2D, MaxPool2D, Flatten\n",
        "from keras.optimizers import SGD\n",
        "from keras.optimizers import Adam\n",
        "from keras.layers import GlobalMaxPool2D\n",
        "import math\n",
        "from keras.preprocessing.image import load_img, img_to_array,array_to_img\n",
        " "
      ],
      "execution_count": 19,
      "outputs": []
    },
    {
      "cell_type": "code",
      "metadata": {
        "id": "x6Fc8EX_7AfP",
        "colab_type": "code",
        "colab": {
          "base_uri": "https://localhost:8080/",
          "height": 122
        },
        "outputId": "b893bd7b-e4f9-47ec-912b-f866d2313875"
      },
      "source": [
        "from google.colab import drive\n",
        "\n",
        "drive.mount('/content/gdrive')\n",
        "root_path = '/content/gdrive/My Drive/ml_data/avidhya/manvswoman'"
      ],
      "execution_count": 2,
      "outputs": [
        {
          "output_type": "stream",
          "text": [
            "Go to this URL in a browser: https://accounts.google.com/o/oauth2/auth?client_id=947318989803-6bn6qk8qdgf4n4g3pfee6491hc0brc4i.apps.googleusercontent.com&redirect_uri=urn%3aietf%3awg%3aoauth%3a2.0%3aoob&response_type=code&scope=email%20https%3a%2f%2fwww.googleapis.com%2fauth%2fdocs.test%20https%3a%2f%2fwww.googleapis.com%2fauth%2fdrive%20https%3a%2f%2fwww.googleapis.com%2fauth%2fdrive.photos.readonly%20https%3a%2f%2fwww.googleapis.com%2fauth%2fpeopleapi.readonly\n",
            "\n",
            "Enter your authorization code:\n",
            "··········\n",
            "Mounted at /content/gdrive\n"
          ],
          "name": "stdout"
        }
      ]
    },
    {
      "cell_type": "code",
      "metadata": {
        "id": "F6wfzbWL7O7X",
        "colab_type": "code",
        "colab": {}
      },
      "source": [
        "pwd='4/2gFMUCsxGjGljT8NT3AxVdk2byQziHV7GbeJ4ZXA7a05PEJPt8X6Gt0'\n",
        "\n",
        "train_path=root_path+'/train'\n",
        "test_path=root_path+'/test'\n",
        "images_path=root_path+'/images'\n",
        "tmp_images_path=images_path+'/581'\n",
        "output_path=root_path+'/output'"
      ],
      "execution_count": 3,
      "outputs": []
    },
    {
      "cell_type": "code",
      "metadata": {
        "id": "WN9i0DrnPtzx",
        "colab_type": "code",
        "colab": {
          "base_uri": "https://localhost:8080/",
          "height": 34
        },
        "outputId": "fcfae9a0-14f5-44a4-954c-79656600a110"
      },
      "source": [
        "!pwd\n"
      ],
      "execution_count": 4,
      "outputs": [
        {
          "output_type": "stream",
          "text": [
            "/content\n"
          ],
          "name": "stdout"
        }
      ]
    },
    {
      "cell_type": "code",
      "metadata": {
        "id": "dul26LZYcywg",
        "colab_type": "code",
        "colab": {
          "base_uri": "https://localhost:8080/",
          "height": 173
        },
        "outputId": "fa4fec9e-73f9-4225-99ae-291b08af35dc"
      },
      "source": [
        "import os\n",
        "num_files=0\n",
        "clmn_names=['image_name','imgDirLocation']\n",
        "imgDF = pd.DataFrame(columns=clmn_names)\n",
        "imgDF.describe()\n"
      ],
      "execution_count": 5,
      "outputs": [
        {
          "output_type": "execute_result",
          "data": {
            "text/html": [
              "<div>\n",
              "<style scoped>\n",
              "    .dataframe tbody tr th:only-of-type {\n",
              "        vertical-align: middle;\n",
              "    }\n",
              "\n",
              "    .dataframe tbody tr th {\n",
              "        vertical-align: top;\n",
              "    }\n",
              "\n",
              "    .dataframe thead th {\n",
              "        text-align: right;\n",
              "    }\n",
              "</style>\n",
              "<table border=\"1\" class=\"dataframe\">\n",
              "  <thead>\n",
              "    <tr style=\"text-align: right;\">\n",
              "      <th></th>\n",
              "      <th>image_name</th>\n",
              "      <th>imgDirLocation</th>\n",
              "    </tr>\n",
              "  </thead>\n",
              "  <tbody>\n",
              "    <tr>\n",
              "      <th>count</th>\n",
              "      <td>0</td>\n",
              "      <td>0</td>\n",
              "    </tr>\n",
              "    <tr>\n",
              "      <th>unique</th>\n",
              "      <td>0</td>\n",
              "      <td>0</td>\n",
              "    </tr>\n",
              "    <tr>\n",
              "      <th>top</th>\n",
              "      <td>NaN</td>\n",
              "      <td>NaN</td>\n",
              "    </tr>\n",
              "    <tr>\n",
              "      <th>freq</th>\n",
              "      <td>NaN</td>\n",
              "      <td>NaN</td>\n",
              "    </tr>\n",
              "  </tbody>\n",
              "</table>\n",
              "</div>"
            ],
            "text/plain": [
              "       image_name imgDirLocation\n",
              "count           0              0\n",
              "unique          0              0\n",
              "top           NaN            NaN\n",
              "freq          NaN            NaN"
            ]
          },
          "metadata": {
            "tags": []
          },
          "execution_count": 5
        }
      ]
    },
    {
      "cell_type": "code",
      "metadata": {
        "id": "_ZHjV6m8l5XB",
        "colab_type": "code",
        "colab": {
          "base_uri": "https://localhost:8080/",
          "height": 68
        },
        "outputId": "ceaa39c6-fc96-4581-8988-cc5fe7c62c93"
      },
      "source": [
        "%%time\n",
        "i=0\n",
        "for root, dirs, files in tqdm(os.walk(tmp_images_path, topdown=False)):\n",
        "   for name in files:\n",
        "      _, ext = os.path.splitext(name)\n",
        "      if (ext == '.jpg'):\n",
        "          imgDF.loc[i]=[name,root]\n",
        "          i+=1\n",
        "    "
      ],
      "execution_count": 6,
      "outputs": [
        {
          "output_type": "stream",
          "text": [
            "1it [00:05,  5.94s/it]"
          ],
          "name": "stderr"
        },
        {
          "output_type": "stream",
          "text": [
            "CPU times: user 77.2 ms, sys: 1.02 ms, total: 78.2 ms\n",
            "Wall time: 5.94 s\n"
          ],
          "name": "stdout"
        },
        {
          "output_type": "stream",
          "text": [
            "\n"
          ],
          "name": "stderr"
        }
      ]
    },
    {
      "cell_type": "code",
      "metadata": {
        "id": "-w-F1attoPsz",
        "colab_type": "code",
        "colab": {
          "base_uri": "https://localhost:8080/",
          "height": 34
        },
        "outputId": "9f5ef9fd-e291-47bf-c24d-6802b30faa53"
      },
      "source": [
        "used_ramgb=virtual_memory().available/1e9\n",
        "print(\"Available Memory is \" + str(used_ramgb) + \" gb\")"
      ],
      "execution_count": 7,
      "outputs": [
        {
          "output_type": "stream",
          "text": [
            "Available Memory is 12.651216896 gb\n"
          ],
          "name": "stdout"
        }
      ]
    },
    {
      "cell_type": "code",
      "metadata": {
        "id": "s8sIg8RMstt-",
        "colab_type": "code",
        "colab": {
          "base_uri": "https://localhost:8080/",
          "height": 173
        },
        "outputId": "35fc82de-1cb4-45ab-8a83-6da611e57e0b"
      },
      "source": [
        "imgDF.describe()"
      ],
      "execution_count": 10,
      "outputs": [
        {
          "output_type": "execute_result",
          "data": {
            "text/html": [
              "<div>\n",
              "<style scoped>\n",
              "    .dataframe tbody tr th:only-of-type {\n",
              "        vertical-align: middle;\n",
              "    }\n",
              "\n",
              "    .dataframe tbody tr th {\n",
              "        vertical-align: top;\n",
              "    }\n",
              "\n",
              "    .dataframe thead th {\n",
              "        text-align: right;\n",
              "    }\n",
              "</style>\n",
              "<table border=\"1\" class=\"dataframe\">\n",
              "  <thead>\n",
              "    <tr style=\"text-align: right;\">\n",
              "      <th></th>\n",
              "      <th>image_name</th>\n",
              "      <th>imgDirLocation</th>\n",
              "    </tr>\n",
              "  </thead>\n",
              "  <tbody>\n",
              "    <tr>\n",
              "      <th>count</th>\n",
              "      <td>23</td>\n",
              "      <td>23</td>\n",
              "    </tr>\n",
              "    <tr>\n",
              "      <th>unique</th>\n",
              "      <td>23</td>\n",
              "      <td>1</td>\n",
              "    </tr>\n",
              "    <tr>\n",
              "      <th>top</th>\n",
              "      <td>7707.jpg</td>\n",
              "      <td>/content/gdrive/My Drive/ml_data/avidhya/manvs...</td>\n",
              "    </tr>\n",
              "    <tr>\n",
              "      <th>freq</th>\n",
              "      <td>1</td>\n",
              "      <td>23</td>\n",
              "    </tr>\n",
              "  </tbody>\n",
              "</table>\n",
              "</div>"
            ],
            "text/plain": [
              "       image_name                                     imgDirLocation\n",
              "count          23                                                 23\n",
              "unique         23                                                  1\n",
              "top      7707.jpg  /content/gdrive/My Drive/ml_data/avidhya/manvs...\n",
              "freq            1                                                 23"
            ]
          },
          "metadata": {
            "tags": []
          },
          "execution_count": 10
        }
      ]
    },
    {
      "cell_type": "code",
      "metadata": {
        "id": "DxZTtKFcgwnp",
        "colab_type": "code",
        "colab": {
          "base_uri": "https://localhost:8080/",
          "height": 204
        },
        "outputId": "115530d1-ab83-42ab-960f-3b0eb9a81bd5"
      },
      "source": [
        "imgDF.head()"
      ],
      "execution_count": 11,
      "outputs": [
        {
          "output_type": "execute_result",
          "data": {
            "text/html": [
              "<div>\n",
              "<style scoped>\n",
              "    .dataframe tbody tr th:only-of-type {\n",
              "        vertical-align: middle;\n",
              "    }\n",
              "\n",
              "    .dataframe tbody tr th {\n",
              "        vertical-align: top;\n",
              "    }\n",
              "\n",
              "    .dataframe thead th {\n",
              "        text-align: right;\n",
              "    }\n",
              "</style>\n",
              "<table border=\"1\" class=\"dataframe\">\n",
              "  <thead>\n",
              "    <tr style=\"text-align: right;\">\n",
              "      <th></th>\n",
              "      <th>image_name</th>\n",
              "      <th>imgDirLocation</th>\n",
              "    </tr>\n",
              "  </thead>\n",
              "  <tbody>\n",
              "    <tr>\n",
              "      <th>0</th>\n",
              "      <td>13157.jpg</td>\n",
              "      <td>/content/gdrive/My Drive/ml_data/avidhya/manvs...</td>\n",
              "    </tr>\n",
              "    <tr>\n",
              "      <th>1</th>\n",
              "      <td>15526.jpg</td>\n",
              "      <td>/content/gdrive/My Drive/ml_data/avidhya/manvs...</td>\n",
              "    </tr>\n",
              "    <tr>\n",
              "      <th>2</th>\n",
              "      <td>2119.jpg</td>\n",
              "      <td>/content/gdrive/My Drive/ml_data/avidhya/manvs...</td>\n",
              "    </tr>\n",
              "    <tr>\n",
              "      <th>3</th>\n",
              "      <td>3561.jpg</td>\n",
              "      <td>/content/gdrive/My Drive/ml_data/avidhya/manvs...</td>\n",
              "    </tr>\n",
              "    <tr>\n",
              "      <th>4</th>\n",
              "      <td>17331.jpg</td>\n",
              "      <td>/content/gdrive/My Drive/ml_data/avidhya/manvs...</td>\n",
              "    </tr>\n",
              "  </tbody>\n",
              "</table>\n",
              "</div>"
            ],
            "text/plain": [
              "  image_name                                     imgDirLocation\n",
              "0  13157.jpg  /content/gdrive/My Drive/ml_data/avidhya/manvs...\n",
              "1  15526.jpg  /content/gdrive/My Drive/ml_data/avidhya/manvs...\n",
              "2   2119.jpg  /content/gdrive/My Drive/ml_data/avidhya/manvs...\n",
              "3   3561.jpg  /content/gdrive/My Drive/ml_data/avidhya/manvs...\n",
              "4  17331.jpg  /content/gdrive/My Drive/ml_data/avidhya/manvs..."
            ]
          },
          "metadata": {
            "tags": []
          },
          "execution_count": 11
        }
      ]
    },
    {
      "cell_type": "code",
      "metadata": {
        "id": "P_JqLbFaWx0m",
        "colab_type": "code",
        "colab": {
          "base_uri": "https://localhost:8080/",
          "height": 408
        },
        "outputId": "5df52029-bfde-4d38-c7fc-0abe2b115251"
      },
      "source": [
        "for index, row in imgDF.iterrows(): \n",
        "    imgLoc=row[\"imgDirLocation\"]+'/'+row[\"image_name\"]\n",
        "    img=cv2.imread(imgLoc)\n",
        "    print(imgLoc + \" ... \"+ str(img.shape))"
      ],
      "execution_count": 16,
      "outputs": [
        {
          "output_type": "stream",
          "text": [
            "/content/gdrive/My Drive/ml_data/avidhya/manvswoman/images/581/13157.jpg ... (224, 224, 3)\n",
            "/content/gdrive/My Drive/ml_data/avidhya/manvswoman/images/581/15526.jpg ... (224, 224, 3)\n",
            "/content/gdrive/My Drive/ml_data/avidhya/manvswoman/images/581/2119.jpg ... (224, 224, 3)\n",
            "/content/gdrive/My Drive/ml_data/avidhya/manvswoman/images/581/3561.jpg ... (224, 224, 3)\n",
            "/content/gdrive/My Drive/ml_data/avidhya/manvswoman/images/581/17331.jpg ... (224, 224, 3)\n",
            "/content/gdrive/My Drive/ml_data/avidhya/manvswoman/images/581/17457.jpg ... (224, 224, 3)\n",
            "/content/gdrive/My Drive/ml_data/avidhya/manvswoman/images/581/8352.jpg ... (224, 224, 3)\n",
            "/content/gdrive/My Drive/ml_data/avidhya/manvswoman/images/581/5110.jpg ... (224, 224, 3)\n",
            "/content/gdrive/My Drive/ml_data/avidhya/manvswoman/images/581/15240.jpg ... (224, 224, 3)\n",
            "/content/gdrive/My Drive/ml_data/avidhya/manvswoman/images/581/10338.jpg ... (224, 224, 3)\n",
            "/content/gdrive/My Drive/ml_data/avidhya/manvswoman/images/581/14638.jpg ... (224, 224, 3)\n",
            "/content/gdrive/My Drive/ml_data/avidhya/manvswoman/images/581/11026.jpg ... (224, 224, 3)\n",
            "/content/gdrive/My Drive/ml_data/avidhya/manvswoman/images/581/7707.jpg ... (224, 224, 3)\n",
            "/content/gdrive/My Drive/ml_data/avidhya/manvswoman/images/581/11740.jpg ... (224, 224, 3)\n",
            "/content/gdrive/My Drive/ml_data/avidhya/manvswoman/images/581/7061.jpg ... (224, 224, 3)\n",
            "/content/gdrive/My Drive/ml_data/avidhya/manvswoman/images/581/16991.jpg ... (224, 224, 3)\n",
            "/content/gdrive/My Drive/ml_data/avidhya/manvswoman/images/581/8434.jpg ... (224, 224, 3)\n",
            "/content/gdrive/My Drive/ml_data/avidhya/manvswoman/images/581/184.jpg ... (224, 224, 3)\n",
            "/content/gdrive/My Drive/ml_data/avidhya/manvswoman/images/581/3207.jpg ... (224, 224, 3)\n",
            "/content/gdrive/My Drive/ml_data/avidhya/manvswoman/images/581/6419.jpg ... (224, 224, 3)\n",
            "/content/gdrive/My Drive/ml_data/avidhya/manvswoman/images/581/23094.jpg ... (224, 224, 3)\n",
            "/content/gdrive/My Drive/ml_data/avidhya/manvswoman/images/581/5676.jpg ... (224, 224, 3)\n",
            "/content/gdrive/My Drive/ml_data/avidhya/manvswoman/images/581/1376.jpg ... (224, 224, 3)\n"
          ],
          "name": "stdout"
        }
      ]
    },
    {
      "cell_type": "code",
      "metadata": {
        "id": "inYEEFSNZPGl",
        "colab_type": "code",
        "colab": {
          "base_uri": "https://localhost:8080/",
          "height": 51
        },
        "outputId": "dd44bb17-f448-4062-adb1-0e64e58c0fac"
      },
      "source": [
        "## Resizing using OpenCV function\n",
        "%%time\n",
        "for index, row in imgDF.iterrows(): \n",
        "    imgLoc=row[\"imgDirLocation\"]+'/'+row[\"image_name\"]\n",
        "    img=cv2.imread(imgLoc)\n",
        "    resized_img=cv2.resize(img,(112,112))\n",
        "    #print(imgLoc + \" ... \"+ str(resized_img.shape))\n",
        "\n"
      ],
      "execution_count": 26,
      "outputs": [
        {
          "output_type": "stream",
          "text": [
            "CPU times: user 31.1 ms, sys: 11.3 ms, total: 42.4 ms\n",
            "Wall time: 108 ms\n"
          ],
          "name": "stdout"
        }
      ]
    },
    {
      "cell_type": "code",
      "metadata": {
        "id": "eR2KUR1dYczZ",
        "colab_type": "code",
        "colab": {
          "base_uri": "https://localhost:8080/",
          "height": 51
        },
        "outputId": "41302c0c-698c-4e1a-a35e-f1ead8632269"
      },
      "source": [
        "##  Load Image function of keras \n",
        "%%time\n",
        "\n",
        "for index, row in imgDF.iterrows(): \n",
        "    imgLoc=row[\"imgDirLocation\"]+'/'+row[\"image_name\"]\n",
        "    img=load_img(imgLoc,target_size=(112,112))\n",
        "    imgArr=img_to_array(img)\n",
        "    \n",
        "### Observed that load time is far lower using Image Load Function of Keras"
      ],
      "execution_count": 27,
      "outputs": [
        {
          "output_type": "stream",
          "text": [
            "CPU times: user 36.1 ms, sys: 2.63 ms, total: 38.8 ms\n",
            "Wall time: 67.5 ms\n"
          ],
          "name": "stdout"
        }
      ]
    },
    {
      "cell_type": "markdown",
      "metadata": {
        "id": "WY-2Tns0fNCj",
        "colab_type": "text"
      },
      "source": [
        "#### High Variation in Pixel Values data and reduction using scaling . "
      ]
    },
    {
      "cell_type": "code",
      "metadata": {
        "id": "9bZumBbgfISM",
        "colab_type": "code",
        "colab": {
          "base_uri": "https://localhost:8080/",
          "height": 1000
        },
        "outputId": "cd25eccf-9338-47d2-da1a-76473d5d8f78"
      },
      "source": [
        "%%time\n",
        "i=0\n",
        "for index, row in imgDF.iterrows(): \n",
        "    imgLoc=row[\"imgDirLocation\"]+'/'+row[\"image_name\"]\n",
        "    img=load_img(imgLoc,target_size=(112,112))\n",
        "    imgArr=img_to_array(img)\n",
        "    if ( i ==4 ):\n",
        "      print(imgArr)\n",
        "      imgArr/=imgArr.max()\n",
        "      print(imgArr)\n",
        "    i+=1"
      ],
      "execution_count": 29,
      "outputs": [
        {
          "output_type": "stream",
          "text": [
            "[[[ 18.   9.  10.]\n",
            "  [ 19.  10.  11.]\n",
            "  [ 21.  11.  10.]\n",
            "  ...\n",
            "  [ 44.  26.  24.]\n",
            "  [ 48.  30.  28.]\n",
            "  [ 52.  34.  32.]]\n",
            "\n",
            " [[ 16.   7.   8.]\n",
            "  [ 17.   8.   9.]\n",
            "  [ 19.   9.   8.]\n",
            "  ...\n",
            "  [ 44.  26.  24.]\n",
            "  [ 48.  30.  28.]\n",
            "  [ 51.  33.  31.]]\n",
            "\n",
            " [[ 16.   7.   8.]\n",
            "  [ 17.   8.   9.]\n",
            "  [ 19.   9.   8.]\n",
            "  ...\n",
            "  [ 42.  24.  20.]\n",
            "  [ 43.  25.  21.]\n",
            "  [ 44.  26.  22.]]\n",
            "\n",
            " ...\n",
            "\n",
            " [[ 96.  89.  73.]\n",
            "  [ 94.  87.  71.]\n",
            "  [ 93.  86.  70.]\n",
            "  ...\n",
            "  [ 74. 174.  75.]\n",
            "  [ 71. 179.  70.]\n",
            "  [ 73. 183.  71.]]\n",
            "\n",
            " [[108.  94.  81.]\n",
            "  [101.  89.  75.]\n",
            "  [ 94.  82.  68.]\n",
            "  ...\n",
            "  [ 80. 174.  77.]\n",
            "  [ 78. 176.  73.]\n",
            "  [ 75. 178.  71.]]\n",
            "\n",
            " [[ 99.  83.  70.]\n",
            "  [ 96.  82.  69.]\n",
            "  [ 92.  78.  65.]\n",
            "  ...\n",
            "  [ 85. 175.  79.]\n",
            "  [ 85. 182.  79.]\n",
            "  [ 83. 182.  76.]]]\n",
            "[[[0.075      0.0375     0.04166667]\n",
            "  [0.07916667 0.04166667 0.04583333]\n",
            "  [0.0875     0.04583333 0.04166667]\n",
            "  ...\n",
            "  [0.18333334 0.10833333 0.1       ]\n",
            "  [0.2        0.125      0.11666667]\n",
            "  [0.21666667 0.14166667 0.13333334]]\n",
            "\n",
            " [[0.06666667 0.02916667 0.03333334]\n",
            "  [0.07083333 0.03333334 0.0375    ]\n",
            "  [0.07916667 0.0375     0.03333334]\n",
            "  ...\n",
            "  [0.18333334 0.10833333 0.1       ]\n",
            "  [0.2        0.125      0.11666667]\n",
            "  [0.2125     0.1375     0.12916666]]\n",
            "\n",
            " [[0.06666667 0.02916667 0.03333334]\n",
            "  [0.07083333 0.03333334 0.0375    ]\n",
            "  [0.07916667 0.0375     0.03333334]\n",
            "  ...\n",
            "  [0.175      0.1        0.08333334]\n",
            "  [0.17916666 0.10416666 0.0875    ]\n",
            "  [0.18333334 0.10833333 0.09166667]]\n",
            "\n",
            " ...\n",
            "\n",
            " [[0.4        0.37083334 0.30416667]\n",
            "  [0.39166668 0.3625     0.29583332]\n",
            "  [0.3875     0.35833332 0.29166666]\n",
            "  ...\n",
            "  [0.30833334 0.725      0.3125    ]\n",
            "  [0.29583332 0.74583334 0.29166666]\n",
            "  [0.30416667 0.7625     0.29583332]]\n",
            "\n",
            " [[0.45       0.39166668 0.3375    ]\n",
            "  [0.42083332 0.37083334 0.3125    ]\n",
            "  [0.39166668 0.34166667 0.28333333]\n",
            "  ...\n",
            "  [0.33333334 0.725      0.32083333]\n",
            "  [0.325      0.73333335 0.30416667]\n",
            "  [0.3125     0.7416667  0.29583332]]\n",
            "\n",
            " [[0.4125     0.34583333 0.29166666]\n",
            "  [0.4        0.34166667 0.2875    ]\n",
            "  [0.38333333 0.325      0.27083334]\n",
            "  ...\n",
            "  [0.35416666 0.7291667  0.32916668]\n",
            "  [0.35416666 0.7583333  0.32916668]\n",
            "  [0.34583333 0.7583333  0.31666666]]]\n",
            "CPU times: user 46.4 ms, sys: 6.53 ms, total: 52.9 ms\n",
            "Wall time: 89.1 ms\n"
          ],
          "name": "stdout"
        }
      ]
    }
  ]
}