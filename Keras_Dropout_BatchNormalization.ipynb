{
  "nbformat": 4,
  "nbformat_minor": 0,
  "metadata": {
    "colab": {
      "name": "Keras_Dropout_BatchNormalization.ipynb",
      "provenance": [],
      "collapsed_sections": [],
      "authorship_tag": "ABX9TyM3/P4zfeqauXCMv4DJKxaX",
      "include_colab_link": true
    },
    "kernelspec": {
      "name": "python3",
      "display_name": "Python 3"
    }
  },
  "cells": [
    {
      "cell_type": "markdown",
      "metadata": {
        "id": "view-in-github",
        "colab_type": "text"
      },
      "source": [
        "<a href=\"https://colab.research.google.com/github/srinivasanibmbangalore/AnalyticsVidhyaCourseOnDL/blob/master/Keras_Dropout_BatchNormalization.ipynb\" target=\"_parent\"><img src=\"https://colab.research.google.com/assets/colab-badge.svg\" alt=\"Open In Colab\"/></a>"
      ]
    },
    {
      "cell_type": "code",
      "metadata": {
        "id": "v3-808nZ7Nyz",
        "colab_type": "code",
        "colab": {}
      },
      "source": [
        "train_csv_path='/storage/Dropout_EarlyStopping/train_man_woman.csv'\n",
        "test_csv_path='/storage/Dropout_EarlyStopping/test_fkwGUNG1.csv'\n",
        "images_path='/storage/Dropout_EarlyStopping/images1/'\n",
        "output_path='/storage/Dropout_EarlyStopping/'\n",
        "root_path='/storage/Dropout_EarlyStopping/'"
      ],
      "execution_count": 1,
      "outputs": []
    },
    {
      "cell_type": "code",
      "metadata": {
        "id": "_Tus6r0zNLfX",
        "colab_type": "code",
        "colab": {}
      },
      "source": [
        "zip_file_name=root_path+'/images1.zip'\n",
        "with ZipFile(zip_file_name, 'r') as zip:\n",
        "    zip.extractall() \n",
        "    print('Done!') "
      ],
      "execution_count": null,
      "outputs": []
    },
    {
      "cell_type": "code",
      "metadata": {
        "id": "qLbQRtALNOS1",
        "colab_type": "code",
        "colab": {}
      },
      "source": [
        "from zipfile import ZipFile \n",
        "import argparse\n",
        "import os\n",
        "import fnmatch\n",
        "import shutil\n",
        "import pandas as pd\n",
        "import numpy as np\n",
        "import cv2\n",
        "import matplotlib.pyplot as plt\n",
        "from tqdm import tqdm\n",
        "from psutil import virtual_memory\n",
        "\n",
        "\n",
        "from keras import backend as K \n",
        "from sklearn.model_selection import train_test_split\n",
        "from keras.models import Sequential\n",
        "from keras.layers import Dense, Activation,InputLayer, Conv2D, MaxPool2D, Flatten,Dropout\n",
        "from keras.optimizers import SGD\n",
        "from keras.optimizers import Adam\n",
        "from keras.layers import GlobalMaxPool2D\n",
        "\n",
        "from keras.applications.vgg16 import VGG16\n",
        "from keras.applications.vgg16 import preprocess_input\n",
        "from keras.utils import to_categorical\n",
        "\n",
        "from keras.preprocessing.image import load_img, img_to_array,array_to_img"
      ],
      "execution_count": null,
      "outputs": []
    },
    {
      "cell_type": "code",
      "metadata": {
        "id": "Pr6-go-JNS2v",
        "colab_type": "code",
        "colab": {}
      },
      "source": [
        "num_files=0\n",
        "clmn_names=['image_name','imgDirLocation']\n",
        "imgDF = pd.DataFrame(columns=clmn_names)\n",
        "imgDF.describe()"
      ],
      "execution_count": null,
      "outputs": []
    },
    {
      "cell_type": "code",
      "metadata": {
        "id": "ee72IjbxNWJ2",
        "colab_type": "code",
        "colab": {}
      },
      "source": [
        "seed = 42\n",
        "rng = np.random.RandomState(seed)\n",
        "tr_data = pd.read_csv(train_csv_path)\n",
        "tr_data.describe()"
      ],
      "execution_count": null,
      "outputs": []
    },
    {
      "cell_type": "code",
      "metadata": {
        "id": "ZSE6TZO8NYcI",
        "colab_type": "code",
        "colab": {}
      },
      "source": [
        "tr_data.head()"
      ],
      "execution_count": null,
      "outputs": []
    },
    {
      "cell_type": "code",
      "metadata": {
        "id": "oUjjo-vLNbjG",
        "colab_type": "code",
        "colab": {}
      },
      "source": [
        "#Count the number of files in the directory\n",
        "a=len(fnmatch.filter(os.listdir(images_path),'*.jpg'))\n",
        "print(a)"
      ],
      "execution_count": null,
      "outputs": []
    },
    {
      "cell_type": "code",
      "metadata": {
        "id": "B0iwbIL2NeVh",
        "colab_type": "code",
        "colab": {}
      },
      "source": [
        "%%time\n",
        "X=[]\n",
        "i=0\n",
        "for index,row in tqdm(tr_data.iterrows()):\n",
        "    file_path=images_path+'/'+row['image_names']\n",
        "    img=load_img(file_path)\n",
        "    img_arr = img_to_array(img)\n",
        "    X.append(img_arr)\n",
        "    i+=1\n",
        "X_a = np.array(X)\n",
        "X_a.shape"
      ],
      "execution_count": null,
      "outputs": []
    },
    {
      "cell_type": "code",
      "metadata": {
        "id": "V6WzJ8gtNhkP",
        "colab_type": "code",
        "colab": {}
      },
      "source": [
        "used_ramgb=virtual_memory().available/1e9\n",
        "print(\"Available Memory is \" + str(used_ramgb) + \" gb\")"
      ],
      "execution_count": null,
      "outputs": []
    },
    {
      "cell_type": "code",
      "metadata": {
        "id": "rC_qEY8fNk3X",
        "colab_type": "code",
        "colab": {}
      },
      "source": [
        "del X"
      ],
      "execution_count": null,
      "outputs": []
    },
    {
      "cell_type": "code",
      "metadata": {
        "id": "k2KKJaKdNl0A",
        "colab_type": "code",
        "colab": {}
      },
      "source": [
        "Y_a=tr_data['class'].to_numpy()\n",
        "Y_a.shape"
      ],
      "execution_count": null,
      "outputs": []
    },
    {
      "cell_type": "code",
      "metadata": {
        "id": "OCMfjE6aNpAA",
        "colab_type": "code",
        "colab": {}
      },
      "source": [
        "X_a.shape"
      ],
      "execution_count": null,
      "outputs": []
    },
    {
      "cell_type": "code",
      "metadata": {
        "id": "IW20U-ipNrRo",
        "colab_type": "code",
        "colab": {}
      },
      "source": [
        "X_train, X_valid, y_train, y_valid=train_test_split(X_a,Y_a,test_size=0.3, random_state=seed)"
      ],
      "execution_count": null,
      "outputs": []
    },
    {
      "cell_type": "code",
      "metadata": {
        "id": "Lsb40O8WNtY8",
        "colab_type": "code",
        "colab": {}
      },
      "source": [
        "del X_a"
      ],
      "execution_count": null,
      "outputs": []
    },
    {
      "cell_type": "code",
      "metadata": {
        "id": "8IprPPZqNvoe",
        "colab_type": "code",
        "colab": {}
      },
      "source": [
        "y_valid=np.expand_dims(y_valid,axis=1)\n",
        "y_train=np.expand_dims(y_train,axis=1)"
      ],
      "execution_count": null,
      "outputs": []
    },
    {
      "cell_type": "code",
      "metadata": {
        "id": "Y6Tyfp85Nx7o",
        "colab_type": "code",
        "colab": {}
      },
      "source": [
        "y_valid.shape"
      ],
      "execution_count": null,
      "outputs": []
    },
    {
      "cell_type": "code",
      "metadata": {
        "id": "szwfPyQwN0Cq",
        "colab_type": "code",
        "colab": {}
      },
      "source": [
        "y_train.shape"
      ],
      "execution_count": null,
      "outputs": []
    },
    {
      "cell_type": "code",
      "metadata": {
        "id": "2VTli8zpN3W5",
        "colab_type": "code",
        "colab": {}
      },
      "source": [
        "X_train = np.reshape(X_train,(-1,224*224*3))\n",
        "X_valid = np.reshape(X_valid,(-1,224*224*3))\n",
        "X_train /= 255\n",
        "X_valid /= 255"
      ],
      "execution_count": null,
      "outputs": []
    },
    {
      "cell_type": "code",
      "metadata": {
        "id": "-INJLFI1OKSl",
        "colab_type": "code",
        "colab": {}
      },
      "source": [
        "X_train.shape\n",
        "X_valid.shape"
      ],
      "execution_count": null,
      "outputs": []
    },
    {
      "cell_type": "code",
      "metadata": {
        "id": "hegj91upOO_k",
        "colab_type": "code",
        "colab": {}
      },
      "source": [
        "model = Sequential()\n",
        "model.add(Dense(100, input_dim=224*224*3, activation='sigmoid'))\n",
        "model.add(Dense(200, activation='sigmoid'))\n",
        "model.add(Dense(100, activation='sigmoid'))\n",
        "model.add(Dense(50,activation='sigmoid'))\n",
        "model.add(Dense(units=1, activation='sigmoid'))\n",
        "\n",
        "model.compile(loss='binary_crossentropy', optimizer=\"rmsprop\", metrics=['accuracy'])\n",
        "model.summary()"
      ],
      "execution_count": null,
      "outputs": []
    },
    {
      "cell_type": "code",
      "metadata": {
        "id": "__s7_fDYORox",
        "colab_type": "code",
        "colab": {}
      },
      "source": [
        "%%time\n",
        "history = model.fit(X_train,y_train, epochs=20, batch_size=32, verbose=2, validation_data=(X_valid,y_valid))"
      ],
      "execution_count": null,
      "outputs": []
    },
    {
      "cell_type": "code",
      "metadata": {
        "id": "Nzw5Bik3OUGZ",
        "colab_type": "code",
        "colab": {}
      },
      "source": [
        "def plotLosses(history):  \n",
        "    plt.plot(history.history['loss'])\n",
        "    plt.plot(history.history['val_loss'])\n",
        "    plt.title('model loss')\n",
        "    plt.ylabel('loss')\n",
        "    plt.xlabel('epoch')\n",
        "    plt.legend(['train', 'validation'], loc='upper left')\n",
        "    plt.show()"
      ],
      "execution_count": null,
      "outputs": []
    },
    {
      "cell_type": "code",
      "metadata": {
        "id": "-fMByvCWO0V3",
        "colab_type": "code",
        "colab": {}
      },
      "source": [
        "plotLosses(history)"
      ],
      "execution_count": null,
      "outputs": []
    },
    {
      "cell_type": "code",
      "metadata": {
        "id": "tFMY-ptWO2b4",
        "colab_type": "code",
        "colab": {}
      },
      "source": [
        "def plotAccuracy(history):  \n",
        "    plt.plot(history.history['acc'])\n",
        "    plt.plot(history.history['val_acc'])\n",
        "    plt.title('model accuracy')\n",
        "    plt.ylabel('accuracy')\n",
        "    plt.xlabel('epoch')\n",
        "    plt.legend(['train', 'validation'], loc='upper left')\n",
        "    plt.show()"
      ],
      "execution_count": null,
      "outputs": []
    },
    {
      "cell_type": "code",
      "metadata": {
        "id": "O0HAiWp6O4qN",
        "colab_type": "code",
        "colab": {}
      },
      "source": [
        "print(history.history.keys())"
      ],
      "execution_count": null,
      "outputs": []
    },
    {
      "cell_type": "code",
      "metadata": {
        "id": "5YVoFCx7O760",
        "colab_type": "code",
        "colab": {}
      },
      "source": [
        "plotAccuracy(history)"
      ],
      "execution_count": null,
      "outputs": []
    },
    {
      "cell_type": "code",
      "metadata": {
        "id": "3vlyYYM5O9yM",
        "colab_type": "code",
        "colab": {}
      },
      "source": [
        "#### Reduce the image size and reload\n",
        "%%time\n",
        "X=[]\n",
        "i=0\n",
        "for index,row in tqdm(tr_data.iterrows()):\n",
        "    file_path=images_path+'/'+row['image_names']\n",
        "    img=load_img(file_path,target_size=(112,112))\n",
        "    img_arr = img_to_array(img)\n",
        "    X.append(img_arr)\n",
        "    i+=1\n",
        "X_a = np.array(X)\n",
        "X_a.shape"
      ],
      "execution_count": null,
      "outputs": []
    },
    {
      "cell_type": "code",
      "metadata": {
        "id": "FuhHtZxZPYOb",
        "colab_type": "code",
        "colab": {}
      },
      "source": [
        "Y_a=tr_data['class'].to_numpy()\n",
        "Y_a.shape"
      ],
      "execution_count": null,
      "outputs": []
    },
    {
      "cell_type": "code",
      "metadata": {
        "id": "hm5zi7tgPdic",
        "colab_type": "code",
        "colab": {}
      },
      "source": [
        "X_train, X_valid, y_train, y_valid=train_test_split(X_a,Y_a,test_size=0.3, random_state=seed)"
      ],
      "execution_count": null,
      "outputs": []
    },
    {
      "cell_type": "code",
      "metadata": {
        "id": "Zw9GCT4ePgCw",
        "colab_type": "code",
        "colab": {}
      },
      "source": [
        "y_valid=np.expand_dims(y_valid,axis=1)\n",
        "y_train=np.expand_dims(y_train,axis=1)\n",
        "X_train = np.reshape(X_train,(-1,112*112*3))\n",
        "X_valid = np.reshape(X_valid,(-1,112*112*3))\n",
        "X_train /= 255\n",
        "X_valid /= 255\n",
        "X_train.shape\n"
      ],
      "execution_count": null,
      "outputs": []
    },
    {
      "cell_type": "code",
      "metadata": {
        "id": "SvT2S8JkPpPR",
        "colab_type": "code",
        "colab": {}
      },
      "source": [
        "model = Sequential()\n",
        "model.add(Dense(100, input_dim=112*112*3, activation='relu'))\n",
        "model.add(Dense(200, activation='relu'))\n",
        "model.add(Dense(100, activation='relu'))\n",
        "model.add(Dense(50,activation='relu'))\n",
        "model.add(Dense(units=1, activation='sigmoid'))\n",
        "\n",
        "model.compile(loss='binary_crossentropy', optimizer=\"sgd\", metrics=['accuracy'])\n",
        "model.summary()"
      ],
      "execution_count": null,
      "outputs": []
    },
    {
      "cell_type": "code",
      "metadata": {
        "id": "-w3-XG5bPsaC",
        "colab_type": "code",
        "colab": {}
      },
      "source": [
        "%%time\n",
        "history = model.fit(X_train,y_train, epochs=50, verbose=2, validation_data=(X_valid,y_valid))"
      ],
      "execution_count": null,
      "outputs": []
    },
    {
      "cell_type": "code",
      "metadata": {
        "id": "N8vv1WbTPvGR",
        "colab_type": "code",
        "colab": {}
      },
      "source": [
        "plotLosses(history)"
      ],
      "execution_count": null,
      "outputs": []
    },
    {
      "cell_type": "code",
      "metadata": {
        "id": "2rFOPMgmPyc1",
        "colab_type": "code",
        "colab": {}
      },
      "source": [
        "plotAccuracy(history)"
      ],
      "execution_count": null,
      "outputs": []
    },
    {
      "cell_type": "code",
      "metadata": {
        "id": "Q1OIE5jCP1bT",
        "colab_type": "code",
        "colab": {}
      },
      "source": [
        "## Let us introduce some drop-outs to check validation accuracy can be further refined.\n",
        "model = Sequential()\n",
        "model.add(Dense(100, input_dim=112*112*3, activation='relu'))\n",
        "model.add(Dense(200, activation='relu'))\n",
        "model.add(Dropout(0.3))\n",
        "model.add(Dense(100, activation='relu'))\n",
        "model.add(Dense(50,activation='relu'))\n",
        "model.add(Dense(units=1, activation='sigmoid'))\n",
        "\n",
        "model.compile(loss='binary_crossentropy', optimizer=\"sgd\", metrics=['accuracy'])\n",
        "model.summary()"
      ],
      "execution_count": null,
      "outputs": []
    },
    {
      "cell_type": "code",
      "metadata": {
        "id": "9fmcVSlDP9ZM",
        "colab_type": "code",
        "colab": {}
      },
      "source": [
        "%%time\n",
        "history = model.fit(X_train,y_train, epochs=50, verbose=2, validation_data=(X_valid,y_valid))"
      ],
      "execution_count": null,
      "outputs": []
    },
    {
      "cell_type": "code",
      "metadata": {
        "id": "y89Rv8mqQAMi",
        "colab_type": "code",
        "colab": {}
      },
      "source": [
        "plotAccuracy(history)"
      ],
      "execution_count": null,
      "outputs": []
    },
    {
      "cell_type": "code",
      "metadata": {
        "id": "vrn8HKpOQCqx",
        "colab_type": "code",
        "colab": {}
      },
      "source": [
        "model = Sequential()\n",
        "model.add(Dense(100, input_dim=112*112*3, activation='relu'))\n",
        "model.add(Dense(200, activation='relu'))\n",
        "model.add(Dropout(0.3))\n",
        "model.add(Dense(100, activation='relu'))\n",
        "model.add(Dropout(0.1))\n",
        "model.add(Dense(50,activation='relu'))\n",
        "model.add(Dense(units=1, activation='sigmoid'))\n",
        "\n",
        "model.compile(loss='binary_crossentropy', optimizer=\"sgd\", metrics=['accuracy'])\n",
        "model.summary()"
      ],
      "execution_count": null,
      "outputs": []
    },
    {
      "cell_type": "code",
      "metadata": {
        "id": "6WeyuY6lQGDQ",
        "colab_type": "code",
        "colab": {}
      },
      "source": [
        "%%time\n",
        "history = model.fit(X_train,y_train, epochs=50, verbose=2, validation_data=(X_valid,y_valid))"
      ],
      "execution_count": null,
      "outputs": []
    },
    {
      "cell_type": "code",
      "metadata": {
        "id": "mrxQPs1_QH66",
        "colab_type": "code",
        "colab": {}
      },
      "source": [
        "plotAccuracy(history)"
      ],
      "execution_count": null,
      "outputs": []
    },
    {
      "cell_type": "code",
      "metadata": {
        "id": "4hs9qdxJQJvR",
        "colab_type": "code",
        "colab": {}
      },
      "source": [
        "plotLosses(history)"
      ],
      "execution_count": null,
      "outputs": []
    }
  ]
}